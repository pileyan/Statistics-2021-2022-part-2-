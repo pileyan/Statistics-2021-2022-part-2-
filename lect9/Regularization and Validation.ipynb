{
 "cells": [
  {
   "cell_type": "markdown",
   "metadata": {},
   "source": [
    "# Регуляризация и валидация моделей \n",
    "\n",
    "*подготовил Пиле Ян*"
   ]
  },
  {
   "cell_type": "markdown",
   "metadata": {},
   "source": [
    "# Валидация моделей"
   ]
  },
  {
   "cell_type": "markdown",
   "metadata": {},
   "source": [
    "При построении моделей машинного обучения часто наша основная задача в том, чтобы научиться предсказывать значение целевой переменной на новых данных. Это будет получаться в том случае, когда у модели хорошая обобщающая способность, то есть при обучении вы смогли \"отловить\" часть \"истинной взаимосвязи\" между переменными и таргетом и с помощью этой взаимосвязи можете строить прогнозы на новых данных. Как понять, что у вашей модели хорошая обобщающая способность? Надо сымитировать ситуацию с \"новыми данными\" и проверить модель на них. Мы с вами уже так делали."
   ]
  },
  {
   "cell_type": "markdown",
   "metadata": {},
   "source": [
    "## Разбираем все сразу на примере\n",
    "\n",
    "У нас есть данные 150 тысяч отзывов на вино. Попробуем предсказать по тексту отзыва и типу вина его оценку по стобалльной шкале."
   ]
  },
  {
   "cell_type": "code",
   "execution_count": 230,
   "metadata": {},
   "outputs": [],
   "source": [
    "import pandas as pd\n",
    "import numpy as np\n",
    "import warnings\n",
    "import matplotlib.pyplot as plt\n",
    "\n",
    "warnings.filterwarnings(\"ignore\") \n",
    "\n",
    "df = pd.read_csv(\"winemag-data_first150k.csv\", index_col = 0)"
   ]
  },
  {
   "cell_type": "code",
   "execution_count": 232,
   "metadata": {},
   "outputs": [],
   "source": [
    "x = pd.read_csv('https://raw.githubusercontent.com/pileyan/Data/master/data/babies%20names/babies_all.txt', \n",
    "               index_col = 0)"
   ]
  },
  {
   "cell_type": "code",
   "execution_count": 233,
   "metadata": {},
   "outputs": [
    {
     "data": {
      "text/html": [
       "<div>\n",
       "<style scoped>\n",
       "    .dataframe tbody tr th:only-of-type {\n",
       "        vertical-align: middle;\n",
       "    }\n",
       "\n",
       "    .dataframe tbody tr th {\n",
       "        vertical-align: top;\n",
       "    }\n",
       "\n",
       "    .dataframe thead th {\n",
       "        text-align: right;\n",
       "    }\n",
       "</style>\n",
       "<table border=\"1\" class=\"dataframe\">\n",
       "  <thead>\n",
       "    <tr style=\"text-align: right;\">\n",
       "      <th></th>\n",
       "      <th>name</th>\n",
       "      <th>sex</th>\n",
       "      <th>number</th>\n",
       "      <th>year</th>\n",
       "    </tr>\n",
       "  </thead>\n",
       "  <tbody>\n",
       "    <tr>\n",
       "      <th>0</th>\n",
       "      <td>Mary</td>\n",
       "      <td>F</td>\n",
       "      <td>7065</td>\n",
       "      <td>1880</td>\n",
       "    </tr>\n",
       "    <tr>\n",
       "      <th>1</th>\n",
       "      <td>Anna</td>\n",
       "      <td>F</td>\n",
       "      <td>2604</td>\n",
       "      <td>1880</td>\n",
       "    </tr>\n",
       "    <tr>\n",
       "      <th>2</th>\n",
       "      <td>Emma</td>\n",
       "      <td>F</td>\n",
       "      <td>2003</td>\n",
       "      <td>1880</td>\n",
       "    </tr>\n",
       "    <tr>\n",
       "      <th>3</th>\n",
       "      <td>Elizabeth</td>\n",
       "      <td>F</td>\n",
       "      <td>1939</td>\n",
       "      <td>1880</td>\n",
       "    </tr>\n",
       "    <tr>\n",
       "      <th>4</th>\n",
       "      <td>Minnie</td>\n",
       "      <td>F</td>\n",
       "      <td>1746</td>\n",
       "      <td>1880</td>\n",
       "    </tr>\n",
       "    <tr>\n",
       "      <th>...</th>\n",
       "      <td>...</td>\n",
       "      <td>...</td>\n",
       "      <td>...</td>\n",
       "      <td>...</td>\n",
       "    </tr>\n",
       "    <tr>\n",
       "      <th>33833</th>\n",
       "      <td>Zymaire</td>\n",
       "      <td>M</td>\n",
       "      <td>5</td>\n",
       "      <td>2010</td>\n",
       "    </tr>\n",
       "    <tr>\n",
       "      <th>33834</th>\n",
       "      <td>Zyonne</td>\n",
       "      <td>M</td>\n",
       "      <td>5</td>\n",
       "      <td>2010</td>\n",
       "    </tr>\n",
       "    <tr>\n",
       "      <th>33835</th>\n",
       "      <td>Zyquarius</td>\n",
       "      <td>M</td>\n",
       "      <td>5</td>\n",
       "      <td>2010</td>\n",
       "    </tr>\n",
       "    <tr>\n",
       "      <th>33836</th>\n",
       "      <td>Zyran</td>\n",
       "      <td>M</td>\n",
       "      <td>5</td>\n",
       "      <td>2010</td>\n",
       "    </tr>\n",
       "    <tr>\n",
       "      <th>33837</th>\n",
       "      <td>Zzyzx</td>\n",
       "      <td>M</td>\n",
       "      <td>5</td>\n",
       "      <td>2010</td>\n",
       "    </tr>\n",
       "  </tbody>\n",
       "</table>\n",
       "<p>1690784 rows × 4 columns</p>\n",
       "</div>"
      ],
      "text/plain": [
       "            name sex  number  year\n",
       "0           Mary   F    7065  1880\n",
       "1           Anna   F    2604  1880\n",
       "2           Emma   F    2003  1880\n",
       "3      Elizabeth   F    1939  1880\n",
       "4         Minnie   F    1746  1880\n",
       "...          ...  ..     ...   ...\n",
       "33833    Zymaire   M       5  2010\n",
       "33834     Zyonne   M       5  2010\n",
       "33835  Zyquarius   M       5  2010\n",
       "33836      Zyran   M       5  2010\n",
       "33837      Zzyzx   M       5  2010\n",
       "\n",
       "[1690784 rows x 4 columns]"
      ]
     },
     "execution_count": 233,
     "metadata": {},
     "output_type": "execute_result"
    }
   ],
   "source": [
    "x"
   ]
  },
  {
   "cell_type": "code",
   "execution_count": 59,
   "metadata": {},
   "outputs": [
    {
     "data": {
      "text/html": [
       "<div>\n",
       "<style scoped>\n",
       "    .dataframe tbody tr th:only-of-type {\n",
       "        vertical-align: middle;\n",
       "    }\n",
       "\n",
       "    .dataframe tbody tr th {\n",
       "        vertical-align: top;\n",
       "    }\n",
       "\n",
       "    .dataframe thead th {\n",
       "        text-align: right;\n",
       "    }\n",
       "</style>\n",
       "<table border=\"1\" class=\"dataframe\">\n",
       "  <thead>\n",
       "    <tr style=\"text-align: right;\">\n",
       "      <th></th>\n",
       "      <th>country</th>\n",
       "      <th>description</th>\n",
       "      <th>designation</th>\n",
       "      <th>points</th>\n",
       "      <th>price</th>\n",
       "      <th>province</th>\n",
       "      <th>region_1</th>\n",
       "      <th>region_2</th>\n",
       "      <th>variety</th>\n",
       "      <th>winery</th>\n",
       "    </tr>\n",
       "  </thead>\n",
       "  <tbody>\n",
       "    <tr>\n",
       "      <th>0</th>\n",
       "      <td>US</td>\n",
       "      <td>This tremendous 100% varietal wine hails from ...</td>\n",
       "      <td>Martha's Vineyard</td>\n",
       "      <td>96</td>\n",
       "      <td>235.0</td>\n",
       "      <td>California</td>\n",
       "      <td>Napa Valley</td>\n",
       "      <td>Napa</td>\n",
       "      <td>Cabernet Sauvignon</td>\n",
       "      <td>Heitz</td>\n",
       "    </tr>\n",
       "    <tr>\n",
       "      <th>1</th>\n",
       "      <td>Spain</td>\n",
       "      <td>Ripe aromas of fig, blackberry and cassis are ...</td>\n",
       "      <td>Carodorum Selección Especial Reserva</td>\n",
       "      <td>96</td>\n",
       "      <td>110.0</td>\n",
       "      <td>Northern Spain</td>\n",
       "      <td>Toro</td>\n",
       "      <td>NaN</td>\n",
       "      <td>Tinta de Toro</td>\n",
       "      <td>Bodega Carmen Rodríguez</td>\n",
       "    </tr>\n",
       "    <tr>\n",
       "      <th>2</th>\n",
       "      <td>US</td>\n",
       "      <td>Mac Watson honors the memory of a wine once ma...</td>\n",
       "      <td>Special Selected Late Harvest</td>\n",
       "      <td>96</td>\n",
       "      <td>90.0</td>\n",
       "      <td>California</td>\n",
       "      <td>Knights Valley</td>\n",
       "      <td>Sonoma</td>\n",
       "      <td>Sauvignon Blanc</td>\n",
       "      <td>Macauley</td>\n",
       "    </tr>\n",
       "  </tbody>\n",
       "</table>\n",
       "</div>"
      ],
      "text/plain": [
       "  country                                        description  \\\n",
       "0      US  This tremendous 100% varietal wine hails from ...   \n",
       "1   Spain  Ripe aromas of fig, blackberry and cassis are ...   \n",
       "2      US  Mac Watson honors the memory of a wine once ma...   \n",
       "\n",
       "                            designation  points  price        province  \\\n",
       "0                     Martha's Vineyard      96  235.0      California   \n",
       "1  Carodorum Selección Especial Reserva      96  110.0  Northern Spain   \n",
       "2         Special Selected Late Harvest      96   90.0      California   \n",
       "\n",
       "         region_1 region_2             variety                   winery  \n",
       "0     Napa Valley     Napa  Cabernet Sauvignon                    Heitz  \n",
       "1            Toro      NaN       Tinta de Toro  Bodega Carmen Rodríguez  \n",
       "2  Knights Valley   Sonoma     Sauvignon Blanc                 Macauley  "
      ]
     },
     "execution_count": 59,
     "metadata": {},
     "output_type": "execute_result"
    }
   ],
   "source": [
    "df.head(3)"
   ]
  },
  {
   "cell_type": "code",
   "execution_count": 60,
   "metadata": {},
   "outputs": [
    {
     "name": "stdout",
     "output_type": "stream",
     "text": [
      "(150930, 10)\n",
      "min     80\n",
      "max    100\n",
      "Name: points, dtype: int64\n"
     ]
    }
   ],
   "source": [
    "print(df.shape)\n",
    "print(df.points.agg(['min','max']))"
   ]
  },
  {
   "cell_type": "markdown",
   "metadata": {},
   "source": [
    "## EDA"
   ]
  },
  {
   "cell_type": "markdown",
   "metadata": {},
   "source": [
    "### Распределение оценок выглядит нормально"
   ]
  },
  {
   "cell_type": "code",
   "execution_count": 61,
   "metadata": {},
   "outputs": [
    {
     "data": {
      "text/plain": [
       "<matplotlib.axes._subplots.AxesSubplot at 0x7f9276704160>"
      ]
     },
     "execution_count": 61,
     "metadata": {},
     "output_type": "execute_result"
    },
    {
     "data": {
      "image/png": "[encoded data removed]",
      "text/plain": [
       "<Figure size 432x288 with 1 Axes>"
      ]
     },
     "metadata": {
      "needs_background": "light"
     },
     "output_type": "display_data"
    }
   ],
   "source": [
    "df.points.hist()"
   ]
  },
  {
   "cell_type": "markdown",
   "metadata": {},
   "source": [
    "### Обработаем пропуски"
   ]
  },
  {
   "cell_type": "code",
   "execution_count": 62,
   "metadata": {},
   "outputs": [
    {
     "name": "stdout",
     "output_type": "stream",
     "text": [
      "<class 'pandas.core.frame.DataFrame'>\n",
      "Int64Index: 150930 entries, 0 to 150929\n",
      "Data columns (total 10 columns):\n",
      " #   Column       Non-Null Count   Dtype  \n",
      "---  ------       --------------   -----  \n",
      " 0   country      150925 non-null  object \n",
      " 1   description  150930 non-null  object \n",
      " 2   designation  105195 non-null  object \n",
      " 3   points       150930 non-null  int64  \n",
      " 4   price        137235 non-null  float64\n",
      " 5   province     150925 non-null  object \n",
      " 6   region_1     125870 non-null  object \n",
      " 7   region_2     60953 non-null   object \n",
      " 8   variety      150930 non-null  object \n",
      " 9   winery       150930 non-null  object \n",
      "dtypes: float64(1), int64(1), object(8)\n",
      "memory usage: 12.7+ MB\n"
     ]
    }
   ],
   "source": [
    "df.info()"
   ]
  },
  {
   "cell_type": "code",
   "execution_count": 63,
   "metadata": {},
   "outputs": [],
   "source": [
    "df = df.dropna(axis=0, subset=['country'])"
   ]
  },
  {
   "cell_type": "code",
   "execution_count": 64,
   "metadata": {},
   "outputs": [
    {
     "name": "stdout",
     "output_type": "stream",
     "text": [
      "<class 'pandas.core.frame.DataFrame'>\n",
      "Int64Index: 150925 entries, 0 to 150929\n",
      "Data columns (total 10 columns):\n",
      " #   Column       Non-Null Count   Dtype  \n",
      "---  ------       --------------   -----  \n",
      " 0   country      150925 non-null  object \n",
      " 1   description  150925 non-null  object \n",
      " 2   designation  105190 non-null  object \n",
      " 3   points       150925 non-null  int64  \n",
      " 4   price        137230 non-null  float64\n",
      " 5   province     150925 non-null  object \n",
      " 6   region_1     125870 non-null  object \n",
      " 7   region_2     60953 non-null   object \n",
      " 8   variety      150925 non-null  object \n",
      " 9   winery       150925 non-null  object \n",
      "dtypes: float64(1), int64(1), object(8)\n",
      "memory usage: 12.7+ MB\n"
     ]
    }
   ],
   "source": [
    "df.info()"
   ]
  },
  {
   "cell_type": "code",
   "execution_count": 65,
   "metadata": {},
   "outputs": [],
   "source": [
    "df.designation.fillna('', inplace = True)\n",
    "df.region_1.fillna('', inplace = True)\n",
    "df.region_2.fillna('', inplace = True)"
   ]
  },
  {
   "cell_type": "code",
   "execution_count": 66,
   "metadata": {},
   "outputs": [
    {
     "data": {
      "text/html": [
       "<div>\n",
       "<style scoped>\n",
       "    .dataframe tbody tr th:only-of-type {\n",
       "        vertical-align: middle;\n",
       "    }\n",
       "\n",
       "    .dataframe tbody tr th {\n",
       "        vertical-align: top;\n",
       "    }\n",
       "\n",
       "    .dataframe thead th {\n",
       "        text-align: right;\n",
       "    }\n",
       "</style>\n",
       "<table border=\"1\" class=\"dataframe\">\n",
       "  <thead>\n",
       "    <tr style=\"text-align: right;\">\n",
       "      <th></th>\n",
       "      <th>country</th>\n",
       "      <th>price</th>\n",
       "    </tr>\n",
       "  </thead>\n",
       "  <tbody>\n",
       "    <tr>\n",
       "      <th>0</th>\n",
       "      <td>Albania</td>\n",
       "      <td>20.000000</td>\n",
       "    </tr>\n",
       "    <tr>\n",
       "      <th>1</th>\n",
       "      <td>Argentina</td>\n",
       "      <td>20.794881</td>\n",
       "    </tr>\n",
       "    <tr>\n",
       "      <th>2</th>\n",
       "      <td>Australia</td>\n",
       "      <td>31.258480</td>\n",
       "    </tr>\n",
       "    <tr>\n",
       "      <th>3</th>\n",
       "      <td>Austria</td>\n",
       "      <td>31.192106</td>\n",
       "    </tr>\n",
       "    <tr>\n",
       "      <th>4</th>\n",
       "      <td>Bosnia and Herzegovina</td>\n",
       "      <td>12.750000</td>\n",
       "    </tr>\n",
       "    <tr>\n",
       "      <th>5</th>\n",
       "      <td>Brazil</td>\n",
       "      <td>19.920000</td>\n",
       "    </tr>\n",
       "    <tr>\n",
       "      <th>6</th>\n",
       "      <td>Bulgaria</td>\n",
       "      <td>11.545455</td>\n",
       "    </tr>\n",
       "    <tr>\n",
       "      <th>7</th>\n",
       "      <td>Canada</td>\n",
       "      <td>34.628866</td>\n",
       "    </tr>\n",
       "    <tr>\n",
       "      <th>8</th>\n",
       "      <td>Chile</td>\n",
       "      <td>19.344780</td>\n",
       "    </tr>\n",
       "    <tr>\n",
       "      <th>9</th>\n",
       "      <td>China</td>\n",
       "      <td>20.333333</td>\n",
       "    </tr>\n",
       "    <tr>\n",
       "      <th>10</th>\n",
       "      <td>Croatia</td>\n",
       "      <td>23.108434</td>\n",
       "    </tr>\n",
       "    <tr>\n",
       "      <th>11</th>\n",
       "      <td>Cyprus</td>\n",
       "      <td>15.483871</td>\n",
       "    </tr>\n",
       "    <tr>\n",
       "      <th>12</th>\n",
       "      <td>Czech Republic</td>\n",
       "      <td>18.000000</td>\n",
       "    </tr>\n",
       "    <tr>\n",
       "      <th>13</th>\n",
       "      <td>Egypt</td>\n",
       "      <td>NaN</td>\n",
       "    </tr>\n",
       "    <tr>\n",
       "      <th>14</th>\n",
       "      <td>England</td>\n",
       "      <td>47.500000</td>\n",
       "    </tr>\n",
       "    <tr>\n",
       "      <th>15</th>\n",
       "      <td>France</td>\n",
       "      <td>45.619885</td>\n",
       "    </tr>\n",
       "    <tr>\n",
       "      <th>16</th>\n",
       "      <td>Georgia</td>\n",
       "      <td>18.581395</td>\n",
       "    </tr>\n",
       "    <tr>\n",
       "      <th>17</th>\n",
       "      <td>Germany</td>\n",
       "      <td>39.011078</td>\n",
       "    </tr>\n",
       "    <tr>\n",
       "      <th>18</th>\n",
       "      <td>Greece</td>\n",
       "      <td>21.747706</td>\n",
       "    </tr>\n",
       "    <tr>\n",
       "      <th>19</th>\n",
       "      <td>Hungary</td>\n",
       "      <td>44.204348</td>\n",
       "    </tr>\n",
       "    <tr>\n",
       "      <th>20</th>\n",
       "      <td>India</td>\n",
       "      <td>13.875000</td>\n",
       "    </tr>\n",
       "    <tr>\n",
       "      <th>21</th>\n",
       "      <td>Israel</td>\n",
       "      <td>31.304918</td>\n",
       "    </tr>\n",
       "    <tr>\n",
       "      <th>22</th>\n",
       "      <td>Italy</td>\n",
       "      <td>37.547913</td>\n",
       "    </tr>\n",
       "    <tr>\n",
       "      <th>23</th>\n",
       "      <td>Japan</td>\n",
       "      <td>24.000000</td>\n",
       "    </tr>\n",
       "    <tr>\n",
       "      <th>24</th>\n",
       "      <td>Lebanon</td>\n",
       "      <td>25.432432</td>\n",
       "    </tr>\n",
       "    <tr>\n",
       "      <th>25</th>\n",
       "      <td>Lithuania</td>\n",
       "      <td>10.000000</td>\n",
       "    </tr>\n",
       "    <tr>\n",
       "      <th>26</th>\n",
       "      <td>Luxembourg</td>\n",
       "      <td>40.666667</td>\n",
       "    </tr>\n",
       "    <tr>\n",
       "      <th>27</th>\n",
       "      <td>Macedonia</td>\n",
       "      <td>15.312500</td>\n",
       "    </tr>\n",
       "    <tr>\n",
       "      <th>28</th>\n",
       "      <td>Mexico</td>\n",
       "      <td>29.095238</td>\n",
       "    </tr>\n",
       "    <tr>\n",
       "      <th>29</th>\n",
       "      <td>Moldova</td>\n",
       "      <td>15.366197</td>\n",
       "    </tr>\n",
       "    <tr>\n",
       "      <th>30</th>\n",
       "      <td>Montenegro</td>\n",
       "      <td>10.000000</td>\n",
       "    </tr>\n",
       "    <tr>\n",
       "      <th>31</th>\n",
       "      <td>Morocco</td>\n",
       "      <td>18.833333</td>\n",
       "    </tr>\n",
       "    <tr>\n",
       "      <th>32</th>\n",
       "      <td>New Zealand</td>\n",
       "      <td>24.173290</td>\n",
       "    </tr>\n",
       "    <tr>\n",
       "      <th>33</th>\n",
       "      <td>Portugal</td>\n",
       "      <td>26.332615</td>\n",
       "    </tr>\n",
       "    <tr>\n",
       "      <th>34</th>\n",
       "      <td>Romania</td>\n",
       "      <td>16.395683</td>\n",
       "    </tr>\n",
       "    <tr>\n",
       "      <th>35</th>\n",
       "      <td>Serbia</td>\n",
       "      <td>24.285714</td>\n",
       "    </tr>\n",
       "    <tr>\n",
       "      <th>36</th>\n",
       "      <td>Slovakia</td>\n",
       "      <td>15.333333</td>\n",
       "    </tr>\n",
       "    <tr>\n",
       "      <th>37</th>\n",
       "      <td>Slovenia</td>\n",
       "      <td>28.061728</td>\n",
       "    </tr>\n",
       "    <tr>\n",
       "      <th>38</th>\n",
       "      <td>South Africa</td>\n",
       "      <td>21.130532</td>\n",
       "    </tr>\n",
       "    <tr>\n",
       "      <th>39</th>\n",
       "      <td>South Korea</td>\n",
       "      <td>13.500000</td>\n",
       "    </tr>\n",
       "    <tr>\n",
       "      <th>40</th>\n",
       "      <td>Spain</td>\n",
       "      <td>27.048529</td>\n",
       "    </tr>\n",
       "    <tr>\n",
       "      <th>41</th>\n",
       "      <td>Switzerland</td>\n",
       "      <td>26.500000</td>\n",
       "    </tr>\n",
       "    <tr>\n",
       "      <th>42</th>\n",
       "      <td>Tunisia</td>\n",
       "      <td>NaN</td>\n",
       "    </tr>\n",
       "    <tr>\n",
       "      <th>43</th>\n",
       "      <td>Turkey</td>\n",
       "      <td>25.800000</td>\n",
       "    </tr>\n",
       "    <tr>\n",
       "      <th>44</th>\n",
       "      <td>US</td>\n",
       "      <td>33.653808</td>\n",
       "    </tr>\n",
       "    <tr>\n",
       "      <th>45</th>\n",
       "      <td>US-France</td>\n",
       "      <td>50.000000</td>\n",
       "    </tr>\n",
       "    <tr>\n",
       "      <th>46</th>\n",
       "      <td>Ukraine</td>\n",
       "      <td>13.000000</td>\n",
       "    </tr>\n",
       "    <tr>\n",
       "      <th>47</th>\n",
       "      <td>Uruguay</td>\n",
       "      <td>25.847059</td>\n",
       "    </tr>\n",
       "  </tbody>\n",
       "</table>\n",
       "</div>"
      ],
      "text/plain": [
       "                   country      price\n",
       "0                  Albania  20.000000\n",
       "1                Argentina  20.794881\n",
       "2                Australia  31.258480\n",
       "3                  Austria  31.192106\n",
       "4   Bosnia and Herzegovina  12.750000\n",
       "5                   Brazil  19.920000\n",
       "6                 Bulgaria  11.545455\n",
       "7                   Canada  34.628866\n",
       "8                    Chile  19.344780\n",
       "9                    China  20.333333\n",
       "10                 Croatia  23.108434\n",
       "11                  Cyprus  15.483871\n",
       "12          Czech Republic  18.000000\n",
       "13                   Egypt        NaN\n",
       "14                 England  47.500000\n",
       "15                  France  45.619885\n",
       "16                 Georgia  18.581395\n",
       "17                 Germany  39.011078\n",
       "18                  Greece  21.747706\n",
       "19                 Hungary  44.204348\n",
       "20                   India  13.875000\n",
       "21                  Israel  31.304918\n",
       "22                   Italy  37.547913\n",
       "23                   Japan  24.000000\n",
       "24                 Lebanon  25.432432\n",
       "25               Lithuania  10.000000\n",
       "26              Luxembourg  40.666667\n",
       "27               Macedonia  15.312500\n",
       "28                  Mexico  29.095238\n",
       "29                 Moldova  15.366197\n",
       "30              Montenegro  10.000000\n",
       "31                 Morocco  18.833333\n",
       "32             New Zealand  24.173290\n",
       "33                Portugal  26.332615\n",
       "34                 Romania  16.395683\n",
       "35                  Serbia  24.285714\n",
       "36                Slovakia  15.333333\n",
       "37                Slovenia  28.061728\n",
       "38            South Africa  21.130532\n",
       "39             South Korea  13.500000\n",
       "40                   Spain  27.048529\n",
       "41             Switzerland  26.500000\n",
       "42                 Tunisia        NaN\n",
       "43                  Turkey  25.800000\n",
       "44                      US  33.653808\n",
       "45               US-France  50.000000\n",
       "46                 Ukraine  13.000000\n",
       "47                 Uruguay  25.847059"
      ]
     },
     "execution_count": 66,
     "metadata": {},
     "output_type": "execute_result"
    }
   ],
   "source": [
    "mean_price = df[['country', 'price']].groupby('country').mean().reset_index()\n",
    "mean_price"
   ]
  },
  {
   "cell_type": "markdown",
   "metadata": {},
   "source": [
    "Нет средней цены на вино из Туниса и Египта. Я бы заткнул дырки \"средним значением\".\n"
   ]
  },
  {
   "cell_type": "code",
   "execution_count": 67,
   "metadata": {},
   "outputs": [],
   "source": [
    "df = df.merge(mean_price, 'left', on = 'country', suffixes = ['','_mean'])"
   ]
  },
  {
   "cell_type": "code",
   "execution_count": 68,
   "metadata": {},
   "outputs": [],
   "source": [
    "prices_modified = np.array(df.price)\n",
    "\n",
    "# Заменим пропуски в price на среднюю цену\n",
    "np.putmask(prices_modified, np.array(df['price'].isna()), df.price_mean)\n",
    "\n",
    "df.price = prices_modified"
   ]
  },
  {
   "cell_type": "code",
   "execution_count": 69,
   "metadata": {},
   "outputs": [],
   "source": [
    "df.price.fillna(df.price.mean(), inplace = True)"
   ]
  },
  {
   "cell_type": "markdown",
   "metadata": {},
   "source": [
    "## Подготовим признаки"
   ]
  },
  {
   "cell_type": "code",
   "execution_count": 70,
   "metadata": {},
   "outputs": [],
   "source": [
    "df.drop('price_mean', axis = 1, inplace = True)"
   ]
  },
  {
   "cell_type": "code",
   "execution_count": 71,
   "metadata": {},
   "outputs": [
    {
     "data": {
      "text/html": [
       "<div>\n",
       "<style scoped>\n",
       "    .dataframe tbody tr th:only-of-type {\n",
       "        vertical-align: middle;\n",
       "    }\n",
       "\n",
       "    .dataframe tbody tr th {\n",
       "        vertical-align: top;\n",
       "    }\n",
       "\n",
       "    .dataframe thead th {\n",
       "        text-align: right;\n",
       "    }\n",
       "</style>\n",
       "<table border=\"1\" class=\"dataframe\">\n",
       "  <thead>\n",
       "    <tr style=\"text-align: right;\">\n",
       "      <th></th>\n",
       "      <th>country</th>\n",
       "      <th>description</th>\n",
       "      <th>designation</th>\n",
       "      <th>points</th>\n",
       "      <th>price</th>\n",
       "      <th>province</th>\n",
       "      <th>region_1</th>\n",
       "      <th>region_2</th>\n",
       "      <th>variety</th>\n",
       "      <th>winery</th>\n",
       "    </tr>\n",
       "  </thead>\n",
       "  <tbody>\n",
       "    <tr>\n",
       "      <th>0</th>\n",
       "      <td>US</td>\n",
       "      <td>This tremendous 100% varietal wine hails from ...</td>\n",
       "      <td>Martha's Vineyard</td>\n",
       "      <td>96</td>\n",
       "      <td>235.0</td>\n",
       "      <td>California</td>\n",
       "      <td>Napa Valley</td>\n",
       "      <td>Napa</td>\n",
       "      <td>Cabernet Sauvignon</td>\n",
       "      <td>Heitz</td>\n",
       "    </tr>\n",
       "    <tr>\n",
       "      <th>1</th>\n",
       "      <td>Spain</td>\n",
       "      <td>Ripe aromas of fig, blackberry and cassis are ...</td>\n",
       "      <td>Carodorum Selección Especial Reserva</td>\n",
       "      <td>96</td>\n",
       "      <td>110.0</td>\n",
       "      <td>Northern Spain</td>\n",
       "      <td>Toro</td>\n",
       "      <td></td>\n",
       "      <td>Tinta de Toro</td>\n",
       "      <td>Bodega Carmen Rodríguez</td>\n",
       "    </tr>\n",
       "    <tr>\n",
       "      <th>2</th>\n",
       "      <td>US</td>\n",
       "      <td>Mac Watson honors the memory of a wine once ma...</td>\n",
       "      <td>Special Selected Late Harvest</td>\n",
       "      <td>96</td>\n",
       "      <td>90.0</td>\n",
       "      <td>California</td>\n",
       "      <td>Knights Valley</td>\n",
       "      <td>Sonoma</td>\n",
       "      <td>Sauvignon Blanc</td>\n",
       "      <td>Macauley</td>\n",
       "    </tr>\n",
       "    <tr>\n",
       "      <th>3</th>\n",
       "      <td>US</td>\n",
       "      <td>This spent 20 months in 30% new French oak, an...</td>\n",
       "      <td>Reserve</td>\n",
       "      <td>96</td>\n",
       "      <td>65.0</td>\n",
       "      <td>Oregon</td>\n",
       "      <td>Willamette Valley</td>\n",
       "      <td>Willamette Valley</td>\n",
       "      <td>Pinot Noir</td>\n",
       "      <td>Ponzi</td>\n",
       "    </tr>\n",
       "    <tr>\n",
       "      <th>4</th>\n",
       "      <td>France</td>\n",
       "      <td>This is the top wine from La Bégude, named aft...</td>\n",
       "      <td>La Brûlade</td>\n",
       "      <td>95</td>\n",
       "      <td>66.0</td>\n",
       "      <td>Provence</td>\n",
       "      <td>Bandol</td>\n",
       "      <td></td>\n",
       "      <td>Provence red blend</td>\n",
       "      <td>Domaine de la Bégude</td>\n",
       "    </tr>\n",
       "  </tbody>\n",
       "</table>\n",
       "</div>"
      ],
      "text/plain": [
       "  country                                        description  \\\n",
       "0      US  This tremendous 100% varietal wine hails from ...   \n",
       "1   Spain  Ripe aromas of fig, blackberry and cassis are ...   \n",
       "2      US  Mac Watson honors the memory of a wine once ma...   \n",
       "3      US  This spent 20 months in 30% new French oak, an...   \n",
       "4  France  This is the top wine from La Bégude, named aft...   \n",
       "\n",
       "                            designation  points  price        province  \\\n",
       "0                     Martha's Vineyard      96  235.0      California   \n",
       "1  Carodorum Selección Especial Reserva      96  110.0  Northern Spain   \n",
       "2         Special Selected Late Harvest      96   90.0      California   \n",
       "3                               Reserve      96   65.0          Oregon   \n",
       "4                            La Brûlade      95   66.0        Provence   \n",
       "\n",
       "            region_1           region_2             variety  \\\n",
       "0        Napa Valley               Napa  Cabernet Sauvignon   \n",
       "1               Toro                          Tinta de Toro   \n",
       "2     Knights Valley             Sonoma     Sauvignon Blanc   \n",
       "3  Willamette Valley  Willamette Valley          Pinot Noir   \n",
       "4             Bandol                     Provence red blend   \n",
       "\n",
       "                    winery  \n",
       "0                    Heitz  \n",
       "1  Bodega Carmen Rodríguez  \n",
       "2                 Macauley  \n",
       "3                    Ponzi  \n",
       "4     Domaine de la Bégude  "
      ]
     },
     "execution_count": 71,
     "metadata": {},
     "output_type": "execute_result"
    }
   ],
   "source": [
    "df.head()"
   ]
  },
  {
   "cell_type": "code",
   "execution_count": 72,
   "metadata": {},
   "outputs": [],
   "source": [
    "df['country_cat'] = df['country'].astype('category').copy()\n",
    "df['country_cat'] = df['country_cat'].cat.codes\n",
    "\n",
    "df['winery_cat'] = df['winery'].astype('category').copy()\n",
    "df['winery_cat'] = df['winery_cat'].cat.codes\n",
    "\n",
    "df['variety_cat'] = df['variety'].astype('category').copy()\n",
    "df['variety_cat'] = df['variety_cat'].cat.codes\n",
    "\n",
    "df['region_2_cat'] = df['region_2'].astype('category').copy()\n",
    "df['region_2_cat'] = df['region_2_cat'].cat.codes\n",
    "\n",
    "df['region_1_cat'] = df['region_1'].astype('category').copy()\n",
    "df['region_1_cat'] = df['region_1_cat'].cat.codes"
   ]
  },
  {
   "cell_type": "code",
   "execution_count": 73,
   "metadata": {},
   "outputs": [],
   "source": [
    "## С типом винодельни разбираться лень - дропну\n",
    "df.drop('designation', axis = 1, inplace = True)"
   ]
  },
  {
   "cell_type": "markdown",
   "metadata": {},
   "source": [
    "## Уберем стоп-слова"
   ]
  },
  {
   "cell_type": "code",
   "execution_count": 74,
   "metadata": {},
   "outputs": [],
   "source": [
    "import nltk\n",
    "from nltk.corpus import stopwords \n",
    "from nltk.tokenize import word_tokenize "
   ]
  },
  {
   "cell_type": "code",
   "execution_count": 75,
   "metadata": {},
   "outputs": [],
   "source": [
    "from keras.preprocessing.text import text_to_word_sequence"
   ]
  },
  {
   "cell_type": "code",
   "execution_count": 76,
   "metadata": {},
   "outputs": [],
   "source": [
    "import re"
   ]
  },
  {
   "cell_type": "code",
   "execution_count": 77,
   "metadata": {},
   "outputs": [],
   "source": [
    "# убираем пунктуацию\n",
    "df['description'] = df['description'].apply(lambda x: re.sub('[,\\.!?:()\"]', '', x))\n",
    "    \n",
    "# убираем лишние пробелы\n",
    "df['description'] = df['description'].apply(lambda x: x.strip())\n",
    "    \n",
    "# переводим к нижнему регистру\n",
    "df['description'] = df['description'].apply(lambda x: x.lower())"
   ]
  },
  {
   "cell_type": "code",
   "execution_count": 78,
   "metadata": {},
   "outputs": [],
   "source": [
    "words = df['description'].apply(lambda x: text_to_word_sequence(x))"
   ]
  },
  {
   "cell_type": "code",
   "execution_count": 79,
   "metadata": {},
   "outputs": [],
   "source": [
    "# стоп-слова\n",
    "stop_words = set(stopwords.words('english'))\n",
    "\n",
    "# Фильтруем стоп-слова\n",
    "filtered_words = words.apply(lambda x: [w for w in x if not w in stop_words])\n",
    "\n",
    "# Заталкиваем обратно в колонку\n",
    "df['description'] = filtered_words.apply(lambda x: \" \".join(x))"
   ]
  },
  {
   "cell_type": "markdown",
   "metadata": {},
   "source": [
    "## Train/test-split (обычный или стратифицированный)\n",
    "\n",
    "При тестировании модели стандартный вариант – разделить обучающую выборку на две группы, на одной из которых модель обучается, а на второй - тестируется (тестовая выборка это как будто новые данные, которых ваша модель не видела). Здесь важно, что на тестовой выборке при этом нельзя подбирать параметры модели, иначе получится, что на обучающей выборке вы обучали параметры, а на тестовой - гиперпараметры. Тогда тестовая выборка уже не будет для вас \"новой\", вы подспудно обучитесь на нее во время подбора параметров.\n",
    "\n",
    "При разбиении на train и test можно стратифицировать разбиение, то есть гарантировать, что распределение по некоторым переменным в обучающей и тестовой выборках будет идентичным. "
   ]
  },
  {
   "cell_type": "code",
   "execution_count": 80,
   "metadata": {},
   "outputs": [],
   "source": [
    "from sklearn.model_selection import train_test_split"
   ]
  },
  {
   "cell_type": "code",
   "execution_count": 81,
   "metadata": {},
   "outputs": [],
   "source": [
    "x_train, x_test, y_train, y_test = train_test_split(df.loc[:, df.columns != 'points'], \n",
    "                                                    df['points'], \n",
    "                                                    test_size = 0.3,\n",
    "                                                    stratify = df['points'], # Удостоверились, что доля одинаковая\n",
    "                                                    random_state = 14)"
   ]
  },
  {
   "cell_type": "code",
   "execution_count": 82,
   "metadata": {},
   "outputs": [
    {
     "data": {
      "image/png": "[encoded data removed]",
      "text/plain": [
       "<Figure size 432x288 with 1 Axes>"
      ]
     },
     "metadata": {
      "needs_background": "light"
     },
     "output_type": "display_data"
    }
   ],
   "source": [
    "# Идеальное совпадение \n",
    "\n",
    "x = y_train.hist(density = True, alpha = 0.5)\n",
    "y = y_test.hist(density = True, alpha = 0.5)"
   ]
  },
  {
   "cell_type": "code",
   "execution_count": 83,
   "metadata": {},
   "outputs": [],
   "source": [
    "from sklearn.feature_extraction.text import TfidfVectorizer\n",
    "tfidf = TfidfVectorizer()"
   ]
  },
  {
   "cell_type": "code",
   "execution_count": 84,
   "metadata": {},
   "outputs": [],
   "source": [
    "train = tfidf.fit_transform(x_train.description)"
   ]
  },
  {
   "cell_type": "code",
   "execution_count": 85,
   "metadata": {},
   "outputs": [],
   "source": [
    "test = tfidf.transform(x_test.description)"
   ]
  },
  {
   "cell_type": "code",
   "execution_count": 87,
   "metadata": {},
   "outputs": [
    {
     "data": {
      "text/html": [
       "<div>\n",
       "<style scoped>\n",
       "    .dataframe tbody tr th:only-of-type {\n",
       "        vertical-align: middle;\n",
       "    }\n",
       "\n",
       "    .dataframe tbody tr th {\n",
       "        vertical-align: top;\n",
       "    }\n",
       "\n",
       "    .dataframe thead th {\n",
       "        text-align: right;\n",
       "    }\n",
       "</style>\n",
       "<table border=\"1\" class=\"dataframe\">\n",
       "  <thead>\n",
       "    <tr style=\"text-align: right;\">\n",
       "      <th></th>\n",
       "      <th>points</th>\n",
       "      <th>price</th>\n",
       "      <th>country_cat</th>\n",
       "      <th>winery_cat</th>\n",
       "      <th>variety_cat</th>\n",
       "      <th>region_2_cat</th>\n",
       "      <th>region_1_cat</th>\n",
       "    </tr>\n",
       "  </thead>\n",
       "  <tbody>\n",
       "    <tr>\n",
       "      <th>count</th>\n",
       "      <td>150925.000000</td>\n",
       "      <td>150925.000000</td>\n",
       "      <td>150925.000000</td>\n",
       "      <td>150925.000000</td>\n",
       "      <td>150925.000000</td>\n",
       "      <td>150925.000000</td>\n",
       "      <td>150925.000000</td>\n",
       "    </tr>\n",
       "    <tr>\n",
       "      <th>mean</th>\n",
       "      <td>87.888527</td>\n",
       "      <td>33.705668</td>\n",
       "      <td>29.482968</td>\n",
       "      <td>7662.680225</td>\n",
       "      <td>317.336379</td>\n",
       "      <td>3.048945</td>\n",
       "      <td>520.662972</td>\n",
       "    </tr>\n",
       "    <tr>\n",
       "      <th>std</th>\n",
       "      <td>3.222290</td>\n",
       "      <td>34.744006</td>\n",
       "      <td>15.017208</td>\n",
       "      <td>4272.075735</td>\n",
       "      <td>182.583897</td>\n",
       "      <td>5.003157</td>\n",
       "      <td>408.515126</td>\n",
       "    </tr>\n",
       "    <tr>\n",
       "      <th>min</th>\n",
       "      <td>80.000000</td>\n",
       "      <td>4.000000</td>\n",
       "      <td>0.000000</td>\n",
       "      <td>0.000000</td>\n",
       "      <td>0.000000</td>\n",
       "      <td>0.000000</td>\n",
       "      <td>0.000000</td>\n",
       "    </tr>\n",
       "    <tr>\n",
       "      <th>25%</th>\n",
       "      <td>86.000000</td>\n",
       "      <td>16.000000</td>\n",
       "      <td>15.000000</td>\n",
       "      <td>4265.000000</td>\n",
       "      <td>110.000000</td>\n",
       "      <td>0.000000</td>\n",
       "      <td>122.000000</td>\n",
       "    </tr>\n",
       "    <tr>\n",
       "      <th>50%</th>\n",
       "      <td>88.000000</td>\n",
       "      <td>25.000000</td>\n",
       "      <td>33.000000</td>\n",
       "      <td>7904.000000</td>\n",
       "      <td>402.000000</td>\n",
       "      <td>0.000000</td>\n",
       "      <td>531.000000</td>\n",
       "    </tr>\n",
       "    <tr>\n",
       "      <th>75%</th>\n",
       "      <td>90.000000</td>\n",
       "      <td>40.000000</td>\n",
       "      <td>44.000000</td>\n",
       "      <td>11393.000000</td>\n",
       "      <td>445.000000</td>\n",
       "      <td>4.000000</td>\n",
       "      <td>909.000000</td>\n",
       "    </tr>\n",
       "    <tr>\n",
       "      <th>max</th>\n",
       "      <td>100.000000</td>\n",
       "      <td>2300.000000</td>\n",
       "      <td>47.000000</td>\n",
       "      <td>14808.000000</td>\n",
       "      <td>631.000000</td>\n",
       "      <td>18.000000</td>\n",
       "      <td>1236.000000</td>\n",
       "    </tr>\n",
       "  </tbody>\n",
       "</table>\n",
       "</div>"
      ],
      "text/plain": [
       "              points          price    country_cat     winery_cat  \\\n",
       "count  150925.000000  150925.000000  150925.000000  150925.000000   \n",
       "mean       87.888527      33.705668      29.482968    7662.680225   \n",
       "std         3.222290      34.744006      15.017208    4272.075735   \n",
       "min        80.000000       4.000000       0.000000       0.000000   \n",
       "25%        86.000000      16.000000      15.000000    4265.000000   \n",
       "50%        88.000000      25.000000      33.000000    7904.000000   \n",
       "75%        90.000000      40.000000      44.000000   11393.000000   \n",
       "max       100.000000    2300.000000      47.000000   14808.000000   \n",
       "\n",
       "         variety_cat   region_2_cat   region_1_cat  \n",
       "count  150925.000000  150925.000000  150925.000000  \n",
       "mean      317.336379       3.048945     520.662972  \n",
       "std       182.583897       5.003157     408.515126  \n",
       "min         0.000000       0.000000       0.000000  \n",
       "25%       110.000000       0.000000     122.000000  \n",
       "50%       402.000000       0.000000     531.000000  \n",
       "75%       445.000000       4.000000     909.000000  \n",
       "max       631.000000      18.000000    1236.000000  "
      ]
     },
     "execution_count": 87,
     "metadata": {},
     "output_type": "execute_result"
    }
   ],
   "source": [
    "df.describe()"
   ]
  },
  {
   "cell_type": "code",
   "execution_count": 88,
   "metadata": {},
   "outputs": [
    {
     "data": {
      "text/plain": [
       "<105647x28370 sparse matrix of type '<class 'numpy.float64'>'\n",
       "\twith 2576601 stored elements in Compressed Sparse Row format>"
      ]
     },
     "execution_count": 88,
     "metadata": {},
     "output_type": "execute_result"
    }
   ],
   "source": [
    "train"
   ]
  },
  {
   "cell_type": "code",
   "execution_count": 89,
   "metadata": {},
   "outputs": [],
   "source": [
    "from scipy.sparse import hstack\n",
    "\n",
    "new_columns_train = np.array(x_train[['country_cat', 'price','region_1_cat', \n",
    "                                  'region_2_cat', 'variety_cat', 'winery_cat']])\n",
    "\n",
    "\n",
    "new_columns_test = np.array(x_test[['country_cat', 'price','region_1_cat', \n",
    "                                  'region_2_cat', 'variety_cat', 'winery_cat']])"
   ]
  },
  {
   "cell_type": "code",
   "execution_count": 90,
   "metadata": {},
   "outputs": [],
   "source": [
    "train_2 = hstack([train, new_columns_train])\n",
    "test_2 = hstack([test, new_columns_test])"
   ]
  },
  {
   "cell_type": "markdown",
   "metadata": {},
   "source": [
    "## Лес"
   ]
  },
  {
   "cell_type": "code",
   "execution_count": 91,
   "metadata": {},
   "outputs": [],
   "source": [
    "from sklearn.ensemble import RandomForestRegressor, RandomForestClassifier"
   ]
  },
  {
   "cell_type": "code",
   "execution_count": 92,
   "metadata": {},
   "outputs": [
    {
     "data": {
      "text/plain": [
       "RandomForestRegressor(max_depth=10, n_estimators=30)"
      ]
     },
     "execution_count": 92,
     "metadata": {},
     "output_type": "execute_result"
    }
   ],
   "source": [
    "rf = RandomForestRegressor(n_estimators=30, \n",
    "                           max_depth=10)\n",
    "rf.fit(train_2, y_train)"
   ]
  },
  {
   "cell_type": "code",
   "execution_count": 93,
   "metadata": {},
   "outputs": [],
   "source": [
    "y_prediction = rf.predict(test_2)"
   ]
  },
  {
   "cell_type": "code",
   "execution_count": 94,
   "metadata": {},
   "outputs": [
    {
     "data": {
      "text/plain": [
       "2.241226475129356"
      ]
     },
     "execution_count": 94,
     "metadata": {},
     "output_type": "execute_result"
    }
   ],
   "source": [
    "from sklearn.metrics import mean_squared_error\n",
    "\n",
    "# RMSE\n",
    "np.sqrt(mean_squared_error(y_prediction,y_test))"
   ]
  },
  {
   "cell_type": "code",
   "execution_count": 95,
   "metadata": {},
   "outputs": [
    {
     "data": {
      "text/plain": [
       "2.1753087713095822"
      ]
     },
     "execution_count": 95,
     "metadata": {},
     "output_type": "execute_result"
    }
   ],
   "source": [
    "np.sqrt(mean_squared_error(rf.predict(train_2),y_train))"
   ]
  },
  {
   "cell_type": "code",
   "execution_count": 96,
   "metadata": {},
   "outputs": [
    {
     "data": {
      "text/plain": [
       "<matplotlib.collections.PathCollection at 0x7f928dcf7580>"
      ]
     },
     "execution_count": 96,
     "metadata": {},
     "output_type": "execute_result"
    },
    {
     "data": {
      "image/png": "[encoded data removed]",
      "text/plain": [
       "<Figure size 432x288 with 1 Axes>"
      ]
     },
     "metadata": {
      "needs_background": "light"
     },
     "output_type": "display_data"
    }
   ],
   "source": [
    "plt.scatter(y_prediction,y_test)"
   ]
  },
  {
   "cell_type": "code",
   "execution_count": 97,
   "metadata": {},
   "outputs": [
    {
     "data": {
      "text/plain": [
       "<matplotlib.collections.PathCollection at 0x7f928d7c0af0>"
      ]
     },
     "execution_count": 97,
     "metadata": {},
     "output_type": "execute_result"
    },
    {
     "data": {
      "image/png": "[encoded data removed]",
      "text/plain": [
       "<Figure size 432x288 with 1 Axes>"
      ]
     },
     "metadata": {
      "needs_background": "light"
     },
     "output_type": "display_data"
    }
   ],
   "source": [
    "plt.scatter(rf.predict(train_2),y_train)"
   ]
  },
  {
   "cell_type": "markdown",
   "metadata": {},
   "source": [
    "## Ошибка out-of-bag\n",
    "\n",
    "Конкретно при обучении случайного леса для проверки качества модели не обязательно отделять тестовую выборку. Поскольку каждое дерево леса обучается на бутстрапированной псевдовыборке, часть объектов не попадает в обучение, а значит дерево эти объекты \"не видит\". \n",
    "Ошибка out-of-bag - это средняя ошибка для каждого наблюдения $z$, которая рассчитывается с использованием прогнозов деревьев, не содержащих $z$ в их обучающей выборке. Это позволяет обучать и тестировать RandomForestClassifier одновременно. Ниже показаны графики зависимости ошибки OOB от количества деревьев во время обучения. Иногда таким образом можно подбирать оптимальное значение n_estimators, при котором ошибка стабилизируется."
   ]
  },
  {
   "cell_type": "code",
   "execution_count": 98,
   "metadata": {},
   "outputs": [
    {
     "data": {
      "image/png": "[encoded data removed]",
      "text/plain": [
       "<Figure size 432x288 with 1 Axes>"
      ]
     },
     "metadata": {
      "needs_background": "light"
     },
     "output_type": "display_data"
    }
   ],
   "source": [
    "from collections import OrderedDict\n",
    "from sklearn.datasets import make_classification\n",
    "from sklearn.ensemble import RandomForestClassifier\n",
    "\n",
    "RANDOM_STATE = 14\n",
    "\n",
    "# Генерируем данные для классификации\n",
    "X, y = make_classification(n_samples=500, n_features=25,\n",
    "                           n_clusters_per_class=1, n_informative=15,\n",
    "                           random_state=RANDOM_STATE)\n",
    "\n",
    "\n",
    "# Здесь выставлен параметр `warm_start`\n",
    "# он мешает лесу обучаться параллельно, но необходим для мониторинга ошибки OOB во время обучения\n",
    "ensemble_clfs = [\n",
    "    (\"RandomForestClassifier, max_features='sqrt'\",\n",
    "        RandomForestClassifier(warm_start=True, oob_score=True,\n",
    "                               max_features=\"sqrt\", # Берем корень от кол-ва признакова\n",
    "                               random_state=RANDOM_STATE)),\n",
    "    \n",
    "    (\"RandomForestClassifier, max_features='log2'\",\n",
    "        RandomForestClassifier(warm_start=True, \n",
    "                               max_features='log2',  # Берем log2 от кол-ва признакова\n",
    "                               oob_score=True,\n",
    "                               random_state=RANDOM_STATE)),\n",
    "    \n",
    "    (\"RandomForestClassifier, max_features=None\",\n",
    "        RandomForestClassifier(warm_start=True, max_features=None,\n",
    "                               oob_score=True,\n",
    "                               random_state=RANDOM_STATE))\n",
    "]\n",
    "\n",
    "# Деламе словарь: \"Название модели\" -> (<n_estimators>, <error rate>)\n",
    "error_rate = OrderedDict((label, []) for label, _ in ensemble_clfs)\n",
    "\n",
    "# Интервал для `n_estimators`\n",
    "min_estimators = 15\n",
    "max_estimators = 175\n",
    "\n",
    "for label, clf in ensemble_clfs:\n",
    "    for i in range(min_estimators, max_estimators + 1):\n",
    "        clf.set_params(n_estimators=i)\n",
    "        clf.fit(X, y)\n",
    "\n",
    "        # Записываем ошибку OOB для каждого значения `n_estimators=i`.\n",
    "        oob_error = 1 - clf.oob_score_\n",
    "        error_rate[label].append((i, oob_error))\n",
    "\n",
    "# График \"OOB error rate\" от \"n_estimators\"\n",
    "for label, clf_err in error_rate.items():\n",
    "    xs, ys = zip(*clf_err)\n",
    "    plt.plot(xs, ys, label=label)\n",
    "\n",
    "plt.xlim(min_estimators, max_estimators)\n",
    "plt.xlabel(\"n_estimators\")\n",
    "plt.ylabel(\"OOB error rate\")\n",
    "plt.legend(loc=\"upper right\")\n",
    "plt.show()"
   ]
  },
  {
   "cell_type": "markdown",
   "metadata": {},
   "source": [
    "## KFold (обычный или стратифицированный)\n",
    "\n",
    "[**кросс - валидация**](https://en.wikipedia.org/wiki/Cross-validation_(statistics)). Исходные данные делятся на $k$ фолдов примерно одинакового размера. Затем на $(k - 1)$ блоке производится обучение модели, а оставшаяся часть используется для тестирования. Процедура повторяется $k$ раз, при этом на каждом проходе для проверки выбирается новый блок, а обучение производится на оставшихся.\n",
    "\n",
    "*Преимущества*: распределение классов оказывается более равномерным, что улучшает качество обучения, оценка является более надежной.\n",
    "   \n",
    "*Недостаток*: обучение модели происходит $k$ раз.\n",
    "\n",
    "Для разбиения выборки на $k$ частей можно воспользоваться методом[`KFold()`](https://scikit-learn.org/stable/modules/generated/sklearn.model_selection.KFold.html) из библиотеки `sklearn.model_selection`. В данной библиотеке также существует метод [`StratifiedKFold()`](https://scikit-learn.org/stable/modules/generated/sklearn.model_selection.StratifiedKFold.html), который производит стратифицированное разделение выборки на фолды. Кроме того, можно воспользоваться методом [`cross_val_score()`](https://scikit-learn.org/stable/modules/generated/sklearn.model_selection.cross_val_score.html), который принимает на вход выбранный алгоритм построения и сразу выдает результаты.\n",
    "\n",
    "\n",
    "Выбор $k$ зависит от объема выборки.\n",
    "\n",
    "<img src=\"https://brettromero.com/wp-content/uploads/2016/05/cross-validation-639x350.png\">"
   ]
  },
  {
   "cell_type": "code",
   "execution_count": 99,
   "metadata": {},
   "outputs": [
    {
     "data": {
      "text/html": [
       "<div>\n",
       "<style scoped>\n",
       "    .dataframe tbody tr th:only-of-type {\n",
       "        vertical-align: middle;\n",
       "    }\n",
       "\n",
       "    .dataframe tbody tr th {\n",
       "        vertical-align: top;\n",
       "    }\n",
       "\n",
       "    .dataframe thead th {\n",
       "        text-align: right;\n",
       "    }\n",
       "</style>\n",
       "<table border=\"1\" class=\"dataframe\">\n",
       "  <thead>\n",
       "    <tr style=\"text-align: right;\">\n",
       "      <th></th>\n",
       "      <th>mpg</th>\n",
       "      <th>cylinders</th>\n",
       "      <th>displacement</th>\n",
       "      <th>horsepower</th>\n",
       "      <th>weight</th>\n",
       "      <th>acceleration</th>\n",
       "      <th>model year</th>\n",
       "      <th>origin</th>\n",
       "      <th>car name</th>\n",
       "    </tr>\n",
       "  </thead>\n",
       "  <tbody>\n",
       "    <tr>\n",
       "      <th>0</th>\n",
       "      <td>18.0</td>\n",
       "      <td>8</td>\n",
       "      <td>307.0</td>\n",
       "      <td>130</td>\n",
       "      <td>3504</td>\n",
       "      <td>12.0</td>\n",
       "      <td>70</td>\n",
       "      <td>1</td>\n",
       "      <td>chevrolet chevelle malibu</td>\n",
       "    </tr>\n",
       "    <tr>\n",
       "      <th>1</th>\n",
       "      <td>15.0</td>\n",
       "      <td>8</td>\n",
       "      <td>350.0</td>\n",
       "      <td>165</td>\n",
       "      <td>3693</td>\n",
       "      <td>11.5</td>\n",
       "      <td>70</td>\n",
       "      <td>1</td>\n",
       "      <td>buick skylark 320</td>\n",
       "    </tr>\n",
       "    <tr>\n",
       "      <th>2</th>\n",
       "      <td>18.0</td>\n",
       "      <td>8</td>\n",
       "      <td>318.0</td>\n",
       "      <td>150</td>\n",
       "      <td>3436</td>\n",
       "      <td>11.0</td>\n",
       "      <td>70</td>\n",
       "      <td>1</td>\n",
       "      <td>plymouth satellite</td>\n",
       "    </tr>\n",
       "    <tr>\n",
       "      <th>3</th>\n",
       "      <td>16.0</td>\n",
       "      <td>8</td>\n",
       "      <td>304.0</td>\n",
       "      <td>150</td>\n",
       "      <td>3433</td>\n",
       "      <td>12.0</td>\n",
       "      <td>70</td>\n",
       "      <td>1</td>\n",
       "      <td>amc rebel sst</td>\n",
       "    </tr>\n",
       "    <tr>\n",
       "      <th>4</th>\n",
       "      <td>17.0</td>\n",
       "      <td>8</td>\n",
       "      <td>302.0</td>\n",
       "      <td>140</td>\n",
       "      <td>3449</td>\n",
       "      <td>10.5</td>\n",
       "      <td>70</td>\n",
       "      <td>1</td>\n",
       "      <td>ford torino</td>\n",
       "    </tr>\n",
       "  </tbody>\n",
       "</table>\n",
       "</div>"
      ],
      "text/plain": [
       "    mpg  cylinders  displacement horsepower  weight  acceleration  model year  \\\n",
       "0  18.0          8         307.0        130    3504          12.0          70   \n",
       "1  15.0          8         350.0        165    3693          11.5          70   \n",
       "2  18.0          8         318.0        150    3436          11.0          70   \n",
       "3  16.0          8         304.0        150    3433          12.0          70   \n",
       "4  17.0          8         302.0        140    3449          10.5          70   \n",
       "\n",
       "   origin                   car name  \n",
       "0       1  chevrolet chevelle malibu  \n",
       "1       1          buick skylark 320  \n",
       "2       1         plymouth satellite  \n",
       "3       1              amc rebel sst  \n",
       "4       1                ford torino  "
      ]
     },
     "execution_count": 99,
     "metadata": {},
     "output_type": "execute_result"
    }
   ],
   "source": [
    "from sklearn.model_selection import KFold\n",
    "from sklearn.model_selection import cross_val_score\n",
    "\n",
    "# Линейная регрессия\n",
    "from sklearn.linear_model import LinearRegression\n",
    "\n",
    "# Данные об автомобилях\n",
    "data_set = 'auto-mpg.csv'\n",
    "\n",
    "# Читаем\n",
    "data = pd.read_csv(data_set)\n",
    "\n",
    "# Смотрим\n",
    "data.head()"
   ]
  },
  {
   "cell_type": "code",
   "execution_count": 100,
   "metadata": {},
   "outputs": [
    {
     "data": {
      "text/plain": [
       "array([-5.09130767, -4.31575177, -3.96608877, -4.57953741, -4.74883736])"
      ]
     },
     "execution_count": 100,
     "metadata": {},
     "output_type": "execute_result"
    }
   ],
   "source": [
    "X = data[['cylinders','weight']]\n",
    "y = data['mpg']\n",
    "\n",
    "# Разбиваем на train/test\n",
    "X_train,X_test,y_train,y_test = train_test_split(X,y)\n",
    "\n",
    "# KFold  на 5 фолдов\n",
    "kf = KFold(n_splits=5,shuffle=True, random_state=123)\n",
    "\n",
    "# Для кросс-валидации мы разбиваем датасет на n частей (сейчас на 5) и прогоняем тест с перемешиванием\n",
    "# (Shuffle=True) на каждом. 'random_state' добавлен для воспроизводимости\n",
    "lr = LinearRegression()\n",
    "\n",
    "# Считаем качество на кросс-валидации k-folds. За разбиение отвечает аргумент 'cv' \n",
    "cv_scores = cross_val_score(lr,X_train,y_train,cv=kf, scoring = 'neg_root_mean_squared_error')\n",
    "cv_scores"
   ]
  },
  {
   "cell_type": "code",
   "execution_count": 101,
   "metadata": {
    "scrolled": true
   },
   "outputs": [
    {
     "data": {
      "text/plain": [
       "array([-5.01839508, -5.1684949 , -4.45616106, -4.12761664, -3.84215904,\n",
       "       -4.0548503 , -4.02732948, -5.06187383, -5.52865283, -3.86165121])"
      ]
     },
     "execution_count": 101,
     "metadata": {},
     "output_type": "execute_result"
    }
   ],
   "source": [
    "kf = KFold(n_splits=10, shuffle=True, random_state=123)\n",
    "cv_scores = cross_val_score(lr,X_train,y_train,cv=kf,scoring = 'neg_root_mean_squared_error')\n",
    "cv_scores"
   ]
  },
  {
   "cell_type": "code",
   "execution_count": 102,
   "metadata": {},
   "outputs": [
    {
     "data": {
      "text/plain": [
       "-4.514718437683659"
      ]
     },
     "execution_count": 102,
     "metadata": {},
     "output_type": "execute_result"
    }
   ],
   "source": [
    "# В конце полученные на кросс-валидации скоры можно усреднить для более робастной оценки качества\n",
    "cv_scores.mean()"
   ]
  },
  {
   "cell_type": "markdown",
   "metadata": {},
   "source": [
    "## [Leave-one-out](https://scikit-learn.org/stable/modules/generated/sklearn.model_selection.LeaveOneOut.html?highlight=leaveoneout#sklearn.model_selection.LeaveOneOut)\n",
    "\n",
    "Это особый вид KFold стратификации, где каждое наблюдение используется один раз в качестве тестовой выборки, а остальные – В качестве обучающей.\n",
    "\n",
    "**LeaveOneOut()** эквивалентен **KFold (n_splits = n)** и **LeavePOut (p = 1)**, где **n** - количество наблюдений.\n",
    "\n",
    "Из-за очень большого количества наборов тестов (которое равно количеству наблюдений) такой метод кросс-валидации может быть очень дорогостоящим. Для больших наборов данных следует отдавать предпочтение **KFold**, **ShuffleSplit** или **StratifiedKFold**."
   ]
  },
  {
   "cell_type": "markdown",
   "metadata": {},
   "source": [
    "## Train/test/validation для сравнения моделей или подбора гиперпараметров"
   ]
  },
  {
   "cell_type": "code",
   "execution_count": 103,
   "metadata": {},
   "outputs": [],
   "source": [
    "import xgboost as xgb"
   ]
  },
  {
   "cell_type": "code",
   "execution_count": 104,
   "metadata": {},
   "outputs": [],
   "source": [
    "names = ['price','country_cat','winery_cat','variety_cat','region_2_cat','region_1_cat']\n",
    "\n",
    "df_xgb = df[names].copy()\n",
    "y_xgb = df['points'].copy()"
   ]
  },
  {
   "cell_type": "code",
   "execution_count": 105,
   "metadata": {},
   "outputs": [],
   "source": [
    "x_train, x_test, y_train, y_test = train_test_split(df_xgb, \n",
    "                                                    y_xgb, \n",
    "                                                    test_size = 0.2,\n",
    "                                                    stratify = y_xgb, # Удостоверились, что доля одинаковая\n",
    "                                                    random_state = 14)"
   ]
  },
  {
   "cell_type": "code",
   "execution_count": 106,
   "metadata": {},
   "outputs": [],
   "source": [
    "x_train, x_validation, y_train, y_validation = train_test_split(x_train, \n",
    "                                                    y_train, \n",
    "                                                    test_size = 0.2,\n",
    "                                                    stratify = y_train, # Удостоверились, что доля одинаковая\n",
    "                                                    random_state = 14)"
   ]
  },
  {
   "cell_type": "code",
   "execution_count": 107,
   "metadata": {},
   "outputs": [],
   "source": [
    "xgb_train = xgb.DMatrix(x_train[names], y_train,\n",
    "                        feature_names = names, enable_categorical=True)\n",
    "\n",
    "xgb_validation = xgb.DMatrix(x_validation[names], y_validation, \n",
    "                             feature_names = names, enable_categorical=True)\n",
    "\n",
    "xgb_test = xgb.DMatrix(x_test[names], y_test, \n",
    "                             feature_names = names, enable_categorical=True)"
   ]
  },
  {
   "cell_type": "code",
   "execution_count": 114,
   "metadata": {},
   "outputs": [],
   "source": [
    "xgb_params = {\n",
    "    'eta': 0.1,\n",
    "    'max_depth': 6,\n",
    "    'subsample': 0.7,\n",
    "    'colsample_bytree': 0.7,\n",
    "    'objective': 'reg:linear',\n",
    "    'eval_metric': 'rmse',\n",
    "    'min_child_weight':1,\n",
    "    'lambda': 2,\n",
    "    'silent': 1,\n",
    "    'seed':15\n",
    "}"
   ]
  },
  {
   "cell_type": "code",
   "execution_count": 115,
   "metadata": {},
   "outputs": [],
   "source": [
    "evallist = [(xgb_validation, 'eval'), (xgb_train, 'train')]"
   ]
  },
  {
   "cell_type": "code",
   "execution_count": 116,
   "metadata": {},
   "outputs": [
    {
     "name": "stdout",
     "output_type": "stream",
     "text": [
      "[10:21:29] WARNING: /Users/travis/build/dmlc/xgboost/src/objective/regression_obj.cu:170: reg:linear is now deprecated in favor of reg:squarederror.\n",
      "[10:21:29] WARNING: /Users/travis/build/dmlc/xgboost/src/learner.cc:541: \n",
      "Parameters: { silent } might not be used.\n",
      "\n",
      "  This may not be accurate due to some parameters are only used in language bindings but\n",
      "  passed down to XGBoost core.  Or some parameters are not used but slip through this\n",
      "  verification. Please open an issue if you find above cases.\n",
      "\n",
      "\n",
      "[0]\teval-rmse:78.71629\ttrain-rmse:78.71601\n",
      "[50]\teval-rmse:2.47346\ttrain-rmse:2.45425\n",
      "[100]\teval-rmse:2.38120\ttrain-rmse:2.34378\n",
      "[150]\teval-rmse:2.34310\ttrain-rmse:2.29078\n",
      "[200]\teval-rmse:2.31644\ttrain-rmse:2.25149\n",
      "[250]\teval-rmse:2.29561\ttrain-rmse:2.21747\n",
      "[300]\teval-rmse:2.27861\ttrain-rmse:2.18913\n",
      "[350]\teval-rmse:2.26332\ttrain-rmse:2.16375\n",
      "[400]\teval-rmse:2.25054\ttrain-rmse:2.14078\n",
      "[450]\teval-rmse:2.23925\ttrain-rmse:2.11818\n",
      "[500]\teval-rmse:2.22816\ttrain-rmse:2.09809\n",
      "[550]\teval-rmse:2.21732\ttrain-rmse:2.07679\n",
      "[600]\teval-rmse:2.20968\ttrain-rmse:2.06045\n",
      "[650]\teval-rmse:2.20283\ttrain-rmse:2.04378\n",
      "[700]\teval-rmse:2.19417\ttrain-rmse:2.02609\n",
      "[750]\teval-rmse:2.18825\ttrain-rmse:2.01159\n",
      "[800]\teval-rmse:2.18170\ttrain-rmse:1.99732\n",
      "[850]\teval-rmse:2.17461\ttrain-rmse:1.98268\n",
      "[900]\teval-rmse:2.16988\ttrain-rmse:1.97058\n",
      "[950]\teval-rmse:2.16347\ttrain-rmse:1.95616\n",
      "[999]\teval-rmse:2.15758\ttrain-rmse:1.94200\n"
     ]
    }
   ],
   "source": [
    "model = xgb.train(params = xgb_params, \n",
    "                    dtrain = xgb_train, \n",
    "                    num_boost_round =1000, \n",
    "                    evals = evallist, \n",
    "                    early_stopping_rounds = 10, \n",
    "                    verbose_eval = 50\n",
    "                   )"
   ]
  },
  {
   "cell_type": "code",
   "execution_count": 117,
   "metadata": {},
   "outputs": [],
   "source": [
    "predictions = model.predict(xgb_test)"
   ]
  },
  {
   "cell_type": "code",
   "execution_count": 118,
   "metadata": {},
   "outputs": [
    {
     "data": {
      "text/plain": [
       "2.1401471722447805"
      ]
     },
     "execution_count": 118,
     "metadata": {},
     "output_type": "execute_result"
    }
   ],
   "source": [
    "# RMSE на тестовой выборке\n",
    "\n",
    "np.sqrt(mean_squared_error(predictions,y_test))"
   ]
  },
  {
   "cell_type": "markdown",
   "metadata": {},
   "source": [
    "# Регуляризация"
   ]
  },
  {
   "cell_type": "markdown",
   "metadata": {},
   "source": [
    "Мы с вами уже сталкивались с обоими этими понятиями, но они являются чрезвычайно важными, поэтому о них стоит поговорить отдельно. Как вы понимаете, один из крайне важных пунктов в машинном обучении - необходимость избегать  переобучения. Индикатором переобучения будет то, что ваша модель на обучающей выборке будет иметь хорошее значение метрики качества, а на тестовой - плохое. Так происходит из за того, что ваша модель слишком сильно \"переподгоняется\" под обучающую выборку, в том числе - под содержащийся в ней случайный шум. \n",
    "\n",
    "Как это обычно работает: без регуляризации многие модели после длительного обучения начинают считать не слишком важные признаки важными и подгоняются под конкретные наблюдения из обучающей выборки (ведь наша цель при обучении - найти такие параметры, чтобы ошибка на обучающей выборке была минимальна). Чтобы избежать этого, нам нужно налодить некоторые ограничения на сложность нашей модели.\n",
    "\n",
    "**Модель переподгоняется под точки:**\n",
    "<img src = \"https://miro.medium.com/max/1520/1*u2MTHaUPMJ8rkTYjm2nHww.gif\">"
   ]
  },
  {
   "cell_type": "markdown",
   "metadata": {},
   "source": [
    "## Как выглядит регуляризация\n",
    "\n",
    "Мы с вами встречали два вида регуляризации: **L1** (или Lasso) и **L2** (или Ridge)\n",
    "\n",
    "Для линейной регрессии в оба вида регуляризации в явном виде включаются коэффициенты. Если наша линейная регрессия имеет вид:\n",
    "$$\n",
    "a(\\mathbf{x}_{i}) = \\Big(\\mathbf{w}, \\mathbf{x}_{i}\\Big), \\quad i = \\overline{1, n}.\n",
    "$$\n",
    "\n",
    "Нашей задачей было найти коэффициенты $w_{j}, j = \\overline{0, m}$, которые доставляют минимум некоторому функционалу ошибки $Q(a, \\mathbf{X})$:\n",
    "\n",
    "$$\n",
    "Q(a, \\mathbf{X}) \\to \\min_{a},\n",
    "$$\n",
    "где $\\mathbf{X}$ - матрица, строками которой является векторы $\\mathbf{x}_{i}$.\n",
    "\n",
    "Наша задача поиска минимума сводится к следующей:\n",
    "\n",
    "$$\n",
    "Q(\\mathbf{w}, \\mathbf{X}) \\to \\min_{\\mathbf{w}}\n",
    "$$\n",
    "\n",
    "### L2-регуляризация для линейной регрессии\n",
    "\n",
    "Этот вид регуляризации \"штрафует\" модель за слишком большие значения весов $w_{j}, j = \\overline{0, m}$ с помощью добавления в функционал ошибки суммы квадратов весов.\n",
    "$$\n",
    "Q_{L_{2}}(\\mathbf{w}, \\mathbf{X}) = Q(\\mathbf{w}, \\mathbf{X}) + \\lambda\\sum\\limits_{j = 1}^{m}w_{j}^{2} = \\lambda||\\mathbf{w}||_{L_{2}}^{2}.\n",
    "$$\n",
    "\n",
    "За счет явного добавления весов как параметров в наш функционал ошибки при его минимизации происходит и уменьшение модулей самих весов, а значит мы снижаем вероятность, что какие-то признаки будут давать слишком большой вклад в модель за счет больших коэффициентов перед ними. Итоговые коэффициенты модели теперь оцениваются с помощьью минимизации модифицированного функционала. Здесь $\\lambda$ - гиперпараметр, который определяет, насколько сильно мы хотим штрафовать модель. Гиперпараметрами называют такие параметры, значения которых не оптимизируются в процессе построения модели. Они настраиваются заранее, а для того, чтобы подобрать их оптимальные значения, нужно многократно обучить модели на разных значениях гиперпараметров и выбирать оптимальное. Таким образом квадратичная регуляризация снижает риск переобучения за счет штрафа за \"сложность\" модели. Отдельно стоит сказать, что в добавляемую к функционалу ошибки сумму квадратов не входит квадрат свободного члена $w_0$. Он является мерой среднего значения целевой переменной, когда все признаки равны 0. Явным плюсом является то, что такая добавка в функционал ошибки является дифференцируемой.\n",
    "\n",
    "Обсуждая линейную регрессию, мы говорили, что признаки для нее неплохо стандартизировать перед обучением модели, но в действительности коэффициенты, полученные с помощью стандартной линейной регрессии без регуляризатора с квадратичным функционалом ошибки масштабно инвариантны, то есть если мы каждый входной параметр умножим на $c$, то соответствующие коэффициенты масштабируются с коэффициентом $1 /c$. Следовательно, независимо от того, как масштабируется предиктор, произведение предиктора и коэффициента остается неизменным. Для регрессии с регуляризатором это не так, поэтому нам необходимо стандартизировать предикторы или каким-либо другим способом (например минимаксным преобразованием) привести предикторы к той же шкале, прежде чем строить саму регрессию.\n",
    "\n",
    "### L1-регуляризация для линейной регрессии\n",
    "\n",
    "Этот вид регуляризации \"штрафует\" модель за слишком большие значения весов $w_{j}, j = \\overline{0, m}$ с помощью добавления в функцию ошибки суммы модулей весов.\n",
    "$$\n",
    "Q_{L_{1}}(\\mathbf{w}, \\mathbf{X}) = Q(\\mathbf{w}, \\mathbf{X}) + \\lambda\\sum\\limits_{j = 1}^{m}|w_{j}| = \\lambda||\\mathbf{w}||_{L_{1}},\n",
    "$$\n",
    "\n",
    "В математике выражение с суммой модулей известно как L1-норма. Этот вид регуляризации \"меньше штрафует\" модель за большие веса, но у $L1$ для линейной регрессии есть полезное свойство - такой вид регуляризации обнуляет коэффициенты перед малоинформативными признаками (мы это не будем доказывать), но знать об этом точно стоит. Перед применением регрессии с L1-регуляризатором также необходимо шкалировать признаки (например стандартизовать или сделать минимаксное преобразование). \n",
    "\n",
    "На описанные методы можно также взглянуть немного с другой точки зрения. Регрессию с $L2$-регуляризацией можно рассматривать как решение уравнения, в котором сумма квадратов коэффициентов меньше или равна $s$. А $L1$ можно рассматривать как уравнение, в котором сумма модулей коэффициентов меньше или равна $s$. Здесь $s$ - число, которая можно отыскать для каждого значения коэффициента регуляризации $\\lambda$ . Эти уравнения также называются функциями ограничений. Большое количество параметров мы можем представить себе на графике с трудом, поэтому представим, что в задаче регрессии параметра всего два ($\\beta_1$ и $\\beta_2$):\n",
    "\n",
    "Тогда, согласно приведенной выше формулировке, регрессия с $L2$-регуляризацией выражается как $\\beta_1^2 + \\beta_2^2 \\le s$ . Это означает, что коэффициенты такой регрессии имеют наименьшее значение функции потерь для всех точек, лежащих в пределах круга $\\beta_1^2 + \\beta_2^2 \\le s$.\n",
    "Аналогично, для $L1$-регуляризации уравнение принимает вид: $|\\beta_1| + |\\beta_2| \\le s$. Это означает, что коэффициенты такой регрессии имеют наименьшее значение функции потерь для всех точек, лежащих в пределах ромба, задаваемого формулой $|\\beta_1| + |\\beta_2| \\le s$.\n",
    "\n",
    "<img src = \"https://miro.medium.com/max/1400/1*XC-8tHoMxrO3ogHKylRfRA.png\">\n",
    "\n",
    "\n",
    "### ElasticNet для линейной регрессии\n",
    "\n",
    "Вы уже поняли, что в Data Science люди любят придумывать различные названия, вот вам еще одно. Если вы решили к своему функционалу ошибки добавить оба вида регуляризации (и $L1$ и $L2$), каждый со своим коэффициентом, такая регрессия будет называться *ElasticNet*-регрессией.\n",
    "\n",
    "Несмотря на то, что примеры были приведены для случая задачи регрессии, заметьте, что функционал ошибки $Q_{L_{1}}(\\mathbf{w}, \\mathbf{X})$ вполне может быть функционалом и для задачи классификации - способ добавления в него штрафа за большие коэффициенты не изменится никак. Значит регуляризовать можно и логистическую регрессию тоже :) да и любые другие линейные модели. \n",
    "\n",
    "\n",
    "## Что нужно понять из рисунка с красными эллипсами\n",
    "\n",
    "На рисунке показаны ограничения регуляризации (зеленые области) для $L1$ (слева) и $L2$ (справа), а также контуры для суммы квадратов отклонений (красный эллипс). Здесь подразумевается, что функция ошибки - средний квадрат отклонения. Для очень большого значения $s$ зеленые области будут содержать центр эллипса, что делает оценки коэффициентов обоих методов регрессии равными оценкам для регрессии без регуляризатора. На изображении выше это не так. В этом случае оценки коэффициентов регрессий $L1$ и $L2$ задаются первой точкой, в которой красный эллипс соприкасается с областью ограничения. Поскольку $L2$ имеет ограничение в форме круга без острых углов, это пересечение обычно не происходит на оси, и поэтому оценки коэффициентов для $L2$-регрессии будут ненулевыми. Однако ограничение для $L1$ имеет углы на каждой из осей, поэтому эллипс будет часто пересекать область ограничения по оси. Когда это происходит, один из коэффициентов (соответствующий этой оси) обнуляется. При большем количестве признаков (больше чем 2), многие из коэффициентов могут одновременно равняться нулю (то самое обнуление при малоинформативных признаках).\n",
    "\n",
    "Все это означает, что $L2$-регуляризация помогает \"понизить вес\" малоинформативных признаков, но не обнуляет их (отбирать признаки уж точно нужно отдельно), а $L1$-регуляризация при достаточно большом коэффициенте регуляризации осуществляет отбор признаков, однако неплохо, если часть малоинформативных признаков (например с низкой корреляцией с таргетом для классификации или, например, очень низким weight of evidence для классификации вы отбросите)."
   ]
  },
  {
   "cell_type": "markdown",
   "metadata": {},
   "source": [
    "# Пример из scikit-learn"
   ]
  },
  {
   "cell_type": "code",
   "execution_count": 195,
   "metadata": {},
   "outputs": [],
   "source": [
    "train = pd.read_csv(\"train_houses_reg.csv\")\n",
    "test = pd.read_csv(\"test_houses_reg.csv\")"
   ]
  },
  {
   "cell_type": "code",
   "execution_count": 196,
   "metadata": {},
   "outputs": [
    {
     "data": {
      "text/html": [
       "<div>\n",
       "<style scoped>\n",
       "    .dataframe tbody tr th:only-of-type {\n",
       "        vertical-align: middle;\n",
       "    }\n",
       "\n",
       "    .dataframe tbody tr th {\n",
       "        vertical-align: top;\n",
       "    }\n",
       "\n",
       "    .dataframe thead th {\n",
       "        text-align: right;\n",
       "    }\n",
       "</style>\n",
       "<table border=\"1\" class=\"dataframe\">\n",
       "  <thead>\n",
       "    <tr style=\"text-align: right;\">\n",
       "      <th></th>\n",
       "      <th>Id</th>\n",
       "      <th>MSSubClass</th>\n",
       "      <th>MSZoning</th>\n",
       "      <th>LotFrontage</th>\n",
       "      <th>LotArea</th>\n",
       "      <th>Street</th>\n",
       "      <th>Alley</th>\n",
       "      <th>LotShape</th>\n",
       "      <th>LandContour</th>\n",
       "      <th>Utilities</th>\n",
       "      <th>...</th>\n",
       "      <th>PoolArea</th>\n",
       "      <th>PoolQC</th>\n",
       "      <th>Fence</th>\n",
       "      <th>MiscFeature</th>\n",
       "      <th>MiscVal</th>\n",
       "      <th>MoSold</th>\n",
       "      <th>YrSold</th>\n",
       "      <th>SaleType</th>\n",
       "      <th>SaleCondition</th>\n",
       "      <th>SalePrice</th>\n",
       "    </tr>\n",
       "  </thead>\n",
       "  <tbody>\n",
       "    <tr>\n",
       "      <th>0</th>\n",
       "      <td>1</td>\n",
       "      <td>60</td>\n",
       "      <td>RL</td>\n",
       "      <td>65.0</td>\n",
       "      <td>8450</td>\n",
       "      <td>Pave</td>\n",
       "      <td>NaN</td>\n",
       "      <td>Reg</td>\n",
       "      <td>Lvl</td>\n",
       "      <td>AllPub</td>\n",
       "      <td>...</td>\n",
       "      <td>0</td>\n",
       "      <td>NaN</td>\n",
       "      <td>NaN</td>\n",
       "      <td>NaN</td>\n",
       "      <td>0</td>\n",
       "      <td>2</td>\n",
       "      <td>2008</td>\n",
       "      <td>WD</td>\n",
       "      <td>Normal</td>\n",
       "      <td>208500</td>\n",
       "    </tr>\n",
       "    <tr>\n",
       "      <th>1</th>\n",
       "      <td>2</td>\n",
       "      <td>20</td>\n",
       "      <td>RL</td>\n",
       "      <td>80.0</td>\n",
       "      <td>9600</td>\n",
       "      <td>Pave</td>\n",
       "      <td>NaN</td>\n",
       "      <td>Reg</td>\n",
       "      <td>Lvl</td>\n",
       "      <td>AllPub</td>\n",
       "      <td>...</td>\n",
       "      <td>0</td>\n",
       "      <td>NaN</td>\n",
       "      <td>NaN</td>\n",
       "      <td>NaN</td>\n",
       "      <td>0</td>\n",
       "      <td>5</td>\n",
       "      <td>2007</td>\n",
       "      <td>WD</td>\n",
       "      <td>Normal</td>\n",
       "      <td>181500</td>\n",
       "    </tr>\n",
       "    <tr>\n",
       "      <th>2</th>\n",
       "      <td>3</td>\n",
       "      <td>60</td>\n",
       "      <td>RL</td>\n",
       "      <td>68.0</td>\n",
       "      <td>11250</td>\n",
       "      <td>Pave</td>\n",
       "      <td>NaN</td>\n",
       "      <td>IR1</td>\n",
       "      <td>Lvl</td>\n",
       "      <td>AllPub</td>\n",
       "      <td>...</td>\n",
       "      <td>0</td>\n",
       "      <td>NaN</td>\n",
       "      <td>NaN</td>\n",
       "      <td>NaN</td>\n",
       "      <td>0</td>\n",
       "      <td>9</td>\n",
       "      <td>2008</td>\n",
       "      <td>WD</td>\n",
       "      <td>Normal</td>\n",
       "      <td>223500</td>\n",
       "    </tr>\n",
       "    <tr>\n",
       "      <th>3</th>\n",
       "      <td>4</td>\n",
       "      <td>70</td>\n",
       "      <td>RL</td>\n",
       "      <td>60.0</td>\n",
       "      <td>9550</td>\n",
       "      <td>Pave</td>\n",
       "      <td>NaN</td>\n",
       "      <td>IR1</td>\n",
       "      <td>Lvl</td>\n",
       "      <td>AllPub</td>\n",
       "      <td>...</td>\n",
       "      <td>0</td>\n",
       "      <td>NaN</td>\n",
       "      <td>NaN</td>\n",
       "      <td>NaN</td>\n",
       "      <td>0</td>\n",
       "      <td>2</td>\n",
       "      <td>2006</td>\n",
       "      <td>WD</td>\n",
       "      <td>Abnorml</td>\n",
       "      <td>140000</td>\n",
       "    </tr>\n",
       "    <tr>\n",
       "      <th>4</th>\n",
       "      <td>5</td>\n",
       "      <td>60</td>\n",
       "      <td>RL</td>\n",
       "      <td>84.0</td>\n",
       "      <td>14260</td>\n",
       "      <td>Pave</td>\n",
       "      <td>NaN</td>\n",
       "      <td>IR1</td>\n",
       "      <td>Lvl</td>\n",
       "      <td>AllPub</td>\n",
       "      <td>...</td>\n",
       "      <td>0</td>\n",
       "      <td>NaN</td>\n",
       "      <td>NaN</td>\n",
       "      <td>NaN</td>\n",
       "      <td>0</td>\n",
       "      <td>12</td>\n",
       "      <td>2008</td>\n",
       "      <td>WD</td>\n",
       "      <td>Normal</td>\n",
       "      <td>250000</td>\n",
       "    </tr>\n",
       "  </tbody>\n",
       "</table>\n",
       "<p>5 rows × 81 columns</p>\n",
       "</div>"
      ],
      "text/plain": [
       "   Id  MSSubClass MSZoning  LotFrontage  LotArea Street Alley LotShape  \\\n",
       "0   1          60       RL         65.0     8450   Pave   NaN      Reg   \n",
       "1   2          20       RL         80.0     9600   Pave   NaN      Reg   \n",
       "2   3          60       RL         68.0    11250   Pave   NaN      IR1   \n",
       "3   4          70       RL         60.0     9550   Pave   NaN      IR1   \n",
       "4   5          60       RL         84.0    14260   Pave   NaN      IR1   \n",
       "\n",
       "  LandContour Utilities  ... PoolArea PoolQC Fence MiscFeature MiscVal MoSold  \\\n",
       "0         Lvl    AllPub  ...        0    NaN   NaN         NaN       0      2   \n",
       "1         Lvl    AllPub  ...        0    NaN   NaN         NaN       0      5   \n",
       "2         Lvl    AllPub  ...        0    NaN   NaN         NaN       0      9   \n",
       "3         Lvl    AllPub  ...        0    NaN   NaN         NaN       0      2   \n",
       "4         Lvl    AllPub  ...        0    NaN   NaN         NaN       0     12   \n",
       "\n",
       "  YrSold  SaleType  SaleCondition  SalePrice  \n",
       "0   2008        WD         Normal     208500  \n",
       "1   2007        WD         Normal     181500  \n",
       "2   2008        WD         Normal     223500  \n",
       "3   2006        WD        Abnorml     140000  \n",
       "4   2008        WD         Normal     250000  \n",
       "\n",
       "[5 rows x 81 columns]"
      ]
     },
     "execution_count": 196,
     "metadata": {},
     "output_type": "execute_result"
    }
   ],
   "source": [
    "train.head()"
   ]
  },
  {
   "cell_type": "code",
   "execution_count": 197,
   "metadata": {},
   "outputs": [
    {
     "data": {
      "text/plain": [
       "((1460, 81), (1459, 80))"
      ]
     },
     "execution_count": 197,
     "metadata": {},
     "output_type": "execute_result"
    }
   ],
   "source": [
    "train.shape, test.shape"
   ]
  },
  {
   "cell_type": "code",
   "execution_count": 198,
   "metadata": {},
   "outputs": [],
   "source": [
    "all_data = pd.concat((train.loc[:,'MSSubClass':'SaleCondition'],\n",
    "                      test.loc[:,'MSSubClass':'SaleCondition']))"
   ]
  },
  {
   "cell_type": "code",
   "execution_count": 199,
   "metadata": {},
   "outputs": [
    {
     "data": {
      "image/png": "[encoded data removed]",
      "text/plain": [
       "<Figure size 864x432 with 2 Axes>"
      ]
     },
     "metadata": {
      "needs_background": "light"
     },
     "output_type": "display_data"
    }
   ],
   "source": [
    "import matplotlib\n",
    "\n",
    "matplotlib.rcParams['figure.figsize'] = (12.0, 6.0)\n",
    "prices = pd.DataFrame({\"price\":train[\"SalePrice\"], \"log(price + 1)\":np.log1p(train[\"SalePrice\"])})\n",
    "p = prices.hist()"
   ]
  },
  {
   "cell_type": "markdown",
   "metadata": {},
   "source": [
    "Преобразуем [скошенные](https://docs.scipy.org/doc/scipy/reference/generated/scipy.stats.skew.html) переменные"
   ]
  },
  {
   "cell_type": "code",
   "execution_count": 200,
   "metadata": {},
   "outputs": [],
   "source": [
    "from scipy.stats import skew\n",
    "\n",
    "# преобразуем таргет:\n",
    "train[\"SalePrice\"] = np.log1p(train[\"SalePrice\"])\n",
    "\n",
    "# Преобразуем все признаки со скошенностью:\n",
    "numeric_feats = all_data.dtypes[all_data.dtypes != \"object\"].index\n",
    "\n",
    "skewed_feats = train[numeric_feats].apply(lambda x: skew(x.dropna())) #compute skewness\n",
    "skewed_feats = skewed_feats[skewed_feats > 0.75]\n",
    "skewed_feats = skewed_feats.index\n",
    "\n",
    "all_data[skewed_feats] = np.log1p(all_data[skewed_feats])"
   ]
  },
  {
   "cell_type": "code",
   "execution_count": 201,
   "metadata": {},
   "outputs": [],
   "source": [
    "all_data = pd.get_dummies(all_data)"
   ]
  },
  {
   "cell_type": "code",
   "execution_count": 202,
   "metadata": {},
   "outputs": [],
   "source": [
    "X_train = all_data[:train.shape[0]]\n",
    "X_test = all_data[train.shape[0]:]\n",
    "y = train.SalePrice"
   ]
  },
  {
   "cell_type": "code",
   "execution_count": 203,
   "metadata": {},
   "outputs": [],
   "source": [
    "# Пропуски заполним средним:\n",
    "X_train = X_train.fillna(X_train.mean())\n",
    "X_test = X_test.fillna(X_train.mean())"
   ]
  },
  {
   "cell_type": "code",
   "execution_count": 204,
   "metadata": {},
   "outputs": [],
   "source": [
    "from sklearn.linear_model import Ridge, RidgeCV, ElasticNet, LassoCV\n",
    "\n",
    "def rmse_cv(model):\n",
    "    rmse= np.sqrt(-cross_val_score(model, X_train, y, scoring=\"neg_mean_squared_error\", cv = 5))\n",
    "    return(rmse)"
   ]
  },
  {
   "cell_type": "code",
   "execution_count": 205,
   "metadata": {},
   "outputs": [],
   "source": [
    "model_ridge = Ridge()"
   ]
  },
  {
   "cell_type": "code",
   "execution_count": 206,
   "metadata": {},
   "outputs": [],
   "source": [
    "alphas = [0.05, 0.1, 0.3, 0.5, 1, 3, 5, 10, 15, 20, 25, 30, 40, 50]\n",
    "cv_ridge = [rmse_cv(Ridge(alpha = alpha)).mean() \n",
    "            for alpha in alphas]"
   ]
  },
  {
   "cell_type": "code",
   "execution_count": 207,
   "metadata": {},
   "outputs": [
    {
     "data": {
      "text/plain": [
       "Text(0, 0.5, 'rmse')"
      ]
     },
     "execution_count": 207,
     "metadata": {},
     "output_type": "execute_result"
    },
    {
     "data": {
      "image/png": "[encoded data removed]",
      "text/plain": [
       "<Figure size 864x432 with 1 Axes>"
      ]
     },
     "metadata": {
      "needs_background": "light"
     },
     "output_type": "display_data"
    }
   ],
   "source": [
    "cv_ridge = pd.Series(cv_ridge, index = alphas)\n",
    "cv_ridge.plot(title = \"Validation\")\n",
    "plt.xlabel(\"alpha\")\n",
    "plt.ylabel(\"rmse\")"
   ]
  },
  {
   "cell_type": "code",
   "execution_count": 208,
   "metadata": {},
   "outputs": [
    {
     "data": {
      "text/plain": [
       "0.12733664928776994"
      ]
     },
     "execution_count": 208,
     "metadata": {},
     "output_type": "execute_result"
    }
   ],
   "source": [
    "cv_ridge.min()"
   ]
  },
  {
   "cell_type": "code",
   "execution_count": 209,
   "metadata": {},
   "outputs": [],
   "source": [
    "model_lasso = LassoCV(alphas = [1, 0.1, 0.001, 0.0005]).fit(X_train, y)"
   ]
  },
  {
   "cell_type": "code",
   "execution_count": 210,
   "metadata": {},
   "outputs": [
    {
     "data": {
      "text/plain": [
       "0.12256909294467"
      ]
     },
     "execution_count": 210,
     "metadata": {},
     "output_type": "execute_result"
    }
   ],
   "source": [
    "rmse_cv(model_lasso).mean()"
   ]
  },
  {
   "cell_type": "markdown",
   "metadata": {},
   "source": [
    "Кроме того, мы обсудили, что Лассо-регрессия умеет обнулять коэффициенты"
   ]
  },
  {
   "cell_type": "code",
   "execution_count": 211,
   "metadata": {},
   "outputs": [],
   "source": [
    "coef = pd.Series(model_lasso.coef_, index = X_train.columns)"
   ]
  },
  {
   "cell_type": "code",
   "execution_count": 212,
   "metadata": {},
   "outputs": [
    {
     "name": "stdout",
     "output_type": "stream",
     "text": [
      "Lasso отобрало 110 переменных и отбросило 178 переменных\n"
     ]
    }
   ],
   "source": [
    "print(\"Lasso отобрало \" + str(sum(coef != 0)) + \" переменных и отбросило \" +  str(sum(coef == 0)) + \" переменных\")"
   ]
  },
  {
   "cell_type": "markdown",
   "metadata": {},
   "source": [
    "# А что же делать с деревьями?\n",
    "\n",
    "### Деревья\n",
    "\n",
    "Для деревьев и лесов так явно включить веса в регуляризацию не получится. Тут нам придется по-другому штрафовать модель за сложность. Что такое сложность дерева? По сути, дерево может идеально разделить абсолютно любую выборку (достаточно чтоб в каждом листе остался один объект), а значит для регуляризации дерева нам надо или осуществлять \"стрижку\" дерева после его построения (см. лекцию про деревья и ссылку на алгоритм CART) или заранее предотвратить переподгонку, ограничив количество объектов в листе, а также ограничив глубину дерева. В действительности, эти величины являются гиперпараметрами нашего алгоритма, точно такими же, как коэффициенты при регуляризаторах в линейной регрессии, и подбирать их нужно отдельно. \n",
    "\n",
    "\n",
    "### Леса\n",
    "Хорошо, с деревьями разобрались, а что делать с лесами. Во-первых для регуляризации лесов можно использовать те же методы, что и для обычных деревьев. Кроме того, у нас есть возможность подбирать еще два регуляризующих гиперпараметра:\n",
    "\n",
    "* Из какого процента наблюдений генерируется бутстрап-выборка для обучения нового дерева\n",
    "\n",
    "* На каком проценте признаков это дерево будет обучаться\n",
    "\n",
    "По сути, оба параметра направлены на \"загрубление\" оценки и предотвращение \"переподгонки\" каждого дерева под выборку. Кроме того, мы ожидаем, что при усреднении прогнозов разных деревьев ответ получится более точным (здесь нам важно, чтобы при построения леса деревья не оказывались одинаковыми, иначе мы потеряем все преимущества леса перед обычными деревьями)\n",
    "\n",
    "### Градиентный бустинг\n",
    "\n",
    "В градиентном бустинге мы строим деревья подряд, последовательно пытаясь уменьшить ошибку. Здесь риск переобучения крайне велик. Первый параметр, который используется для регуляризации, это $\\eta$ - вклад каждого следующего дерева. С помощью него мы не даем бустингу \"слишком сильно корректировать ошибку\", но это не единственное, на что бустинг способен. Вы могли заметить, что при обучении бустинга также есть возможность включать $L_1$- или $L_2$-регуляризацию. Но откуда, там же нет весов?\n",
    "\n",
    "<img src = \"https://miro.medium.com/max/1400/1*F7oim6JAbEHGB9-wrU6TfA.png\" width= 700>\n",
    "\n",
    "Бустинг обучает деревья последовательно, причем каждое следующее обучается на \"ошибку\", оставшуюся от предыдущих. Почему бы нам не взять и не \"регуляризовать\" этот остаток в явном виде.\n",
    "\n",
    "<img src = \"https://miro.medium.com/max/982/1*8Q4PFBRPrc0qqM00odeKQA.png\" width= 500>\n",
    "\n",
    "Вот [тут](https://albertum.medium.com/l1-l2-regularization-in-xgboost-regression-7b2db08a59e0) можно прочитать про то, как конкретно в xgboost'e выглядит регуляризация, как здесь использовано разложение в ряд Тейлора.\n",
    "\n",
    "**DISCLAIMER:** *Особенные любители показать свою образованность раньше любили спрашивать такое на собеседованиях*\n",
    "\n",
    "**P.S.:** *Надеюсь, что это издевательство прекратилось*\n",
    "\n",
    "По статье выше можно разобраться, зачем все-таки в XGBoost вторая производная"
   ]
  },
  {
   "cell_type": "code",
   "execution_count": 222,
   "metadata": {},
   "outputs": [],
   "source": [
    "xgb_train = xgb.DMatrix(x_train[names], y_train,\n",
    "                        feature_names = names, enable_categorical=True)\n",
    "\n",
    "xgb_validation = xgb.DMatrix(x_validation[names], y_validation, \n",
    "                             feature_names = names, enable_categorical=True)\n",
    "\n",
    "xgb_test = xgb.DMatrix(x_test[names], y_test, \n",
    "                             feature_names = names, enable_categorical=True)"
   ]
  },
  {
   "cell_type": "code",
   "execution_count": 223,
   "metadata": {},
   "outputs": [],
   "source": [
    "xgb_params = {\n",
    "    'eta': 0.1,\n",
    "    'max_depth': 6,\n",
    "    'subsample': 0.7,\n",
    "    'colsample_bytree': 0.7,\n",
    "    'objective': 'reg:linear',\n",
    "    'eval_metric': 'rmse',\n",
    "    'min_child_weight':1,\n",
    "    'lambda': 1,\n",
    "    'silent': 1,\n",
    "    'seed':15\n",
    "}"
   ]
  },
  {
   "cell_type": "code",
   "execution_count": 224,
   "metadata": {},
   "outputs": [],
   "source": [
    "evallist = [(xgb_validation, 'eval'), (xgb_train, 'train')]"
   ]
  },
  {
   "cell_type": "code",
   "execution_count": 225,
   "metadata": {
    "scrolled": false
   },
   "outputs": [
    {
     "name": "stdout",
     "output_type": "stream",
     "text": [
      "[11:41:05] WARNING: /Users/travis/build/dmlc/xgboost/src/objective/regression_obj.cu:170: reg:linear is now deprecated in favor of reg:squarederror.\n",
      "[11:41:05] WARNING: /Users/travis/build/dmlc/xgboost/src/learner.cc:541: \n",
      "Parameters: { silent } might not be used.\n",
      "\n",
      "  This may not be accurate due to some parameters are only used in language bindings but\n",
      "  passed down to XGBoost core.  Or some parameters are not used but slip through this\n",
      "  verification. Please open an issue if you find above cases.\n",
      "\n",
      "\n",
      "[0]\teval-rmse:78.71457\ttrain-rmse:78.71497\n",
      "[200]\teval-rmse:2.31233\ttrain-rmse:2.23794\n",
      "[400]\teval-rmse:2.24642\ttrain-rmse:2.12096\n",
      "[600]\teval-rmse:2.20035\ttrain-rmse:2.03399\n",
      "[800]\teval-rmse:2.17081\ttrain-rmse:1.96804\n",
      "[999]\teval-rmse:2.14359\ttrain-rmse:1.90950\n",
      "[11:41:26] WARNING: /Users/travis/build/dmlc/xgboost/src/objective/regression_obj.cu:170: reg:linear is now deprecated in favor of reg:squarederror.\n",
      "[11:41:26] WARNING: /Users/travis/build/dmlc/xgboost/src/learner.cc:541: \n",
      "Parameters: { silent } might not be used.\n",
      "\n",
      "  This may not be accurate due to some parameters are only used in language bindings but\n",
      "  passed down to XGBoost core.  Or some parameters are not used but slip through this\n",
      "  verification. Please open an issue if you find above cases.\n",
      "\n",
      "\n",
      "[0]\teval-rmse:78.71509\ttrain-rmse:78.71518\n",
      "[200]\teval-rmse:2.31609\ttrain-rmse:2.24492\n",
      "[400]\teval-rmse:2.24639\ttrain-rmse:2.12514\n",
      "[600]\teval-rmse:2.20233\ttrain-rmse:2.04148\n",
      "[800]\teval-rmse:2.17045\ttrain-rmse:1.97258\n",
      "[999]\teval-rmse:2.14618\ttrain-rmse:1.91580\n",
      "[11:41:46] WARNING: /Users/travis/build/dmlc/xgboost/src/objective/regression_obj.cu:170: reg:linear is now deprecated in favor of reg:squarederror.\n",
      "[11:41:46] WARNING: /Users/travis/build/dmlc/xgboost/src/learner.cc:541: \n",
      "Parameters: { silent } might not be used.\n",
      "\n",
      "  This may not be accurate due to some parameters are only used in language bindings but\n",
      "  passed down to XGBoost core.  Or some parameters are not used but slip through this\n",
      "  verification. Please open an issue if you find above cases.\n",
      "\n",
      "\n",
      "[0]\teval-rmse:78.71542\ttrain-rmse:78.71594\n",
      "[200]\teval-rmse:2.31506\ttrain-rmse:2.24713\n",
      "[400]\teval-rmse:2.24781\ttrain-rmse:2.12726\n",
      "[600]\teval-rmse:2.20497\ttrain-rmse:2.04256\n",
      "[800]\teval-rmse:2.17698\ttrain-rmse:1.97613\n",
      "[999]\teval-rmse:2.15036\ttrain-rmse:1.91936\n",
      "[11:42:07] WARNING: /Users/travis/build/dmlc/xgboost/src/objective/regression_obj.cu:170: reg:linear is now deprecated in favor of reg:squarederror.\n",
      "[11:42:07] WARNING: /Users/travis/build/dmlc/xgboost/src/learner.cc:541: \n",
      "Parameters: { silent } might not be used.\n",
      "\n",
      "  This may not be accurate due to some parameters are only used in language bindings but\n",
      "  passed down to XGBoost core.  Or some parameters are not used but slip through this\n",
      "  verification. Please open an issue if you find above cases.\n",
      "\n",
      "\n",
      "[0]\teval-rmse:78.71686\ttrain-rmse:78.71667\n",
      "[200]\teval-rmse:2.31116\ttrain-rmse:2.24248\n",
      "[400]\teval-rmse:2.24539\ttrain-rmse:2.13017\n",
      "[600]\teval-rmse:2.20342\ttrain-rmse:2.04588\n",
      "[800]\teval-rmse:2.17278\ttrain-rmse:1.97827\n",
      "[999]\teval-rmse:2.14950\ttrain-rmse:1.92336\n",
      "[11:42:35] WARNING: /Users/travis/build/dmlc/xgboost/src/objective/regression_obj.cu:170: reg:linear is now deprecated in favor of reg:squarederror.\n",
      "[11:42:35] WARNING: /Users/travis/build/dmlc/xgboost/src/learner.cc:541: \n",
      "Parameters: { silent } might not be used.\n",
      "\n",
      "  This may not be accurate due to some parameters are only used in language bindings but\n",
      "  passed down to XGBoost core.  Or some parameters are not used but slip through this\n",
      "  verification. Please open an issue if you find above cases.\n",
      "\n",
      "\n",
      "[0]\teval-rmse:78.71668\ttrain-rmse:78.71562\n",
      "[200]\teval-rmse:2.31769\ttrain-rmse:2.25121\n",
      "[400]\teval-rmse:2.24774\ttrain-rmse:2.13327\n",
      "[600]\teval-rmse:2.20564\ttrain-rmse:2.05035\n",
      "[800]\teval-rmse:2.17613\ttrain-rmse:1.98523\n",
      "[999]\teval-rmse:2.15068\ttrain-rmse:1.92915\n"
     ]
    }
   ],
   "source": [
    "for _lambda in np.arange(0.2,1.2,0.2):\n",
    "    xgb_params['lambda'] = _lambda\n",
    "    model = xgb.train(params = xgb_params, \n",
    "                        dtrain = xgb_train, \n",
    "                        num_boost_round =1000, \n",
    "                        evals = evallist, \n",
    "                        early_stopping_rounds = 10, \n",
    "                        verbose_eval = 200\n",
    "                       )"
   ]
  },
  {
   "cell_type": "code",
   "execution_count": 227,
   "metadata": {},
   "outputs": [
    {
     "name": "stdout",
     "output_type": "stream",
     "text": [
      "[11:45:27] WARNING: /Users/travis/build/dmlc/xgboost/src/objective/regression_obj.cu:170: reg:linear is now deprecated in favor of reg:squarederror.\n",
      "[11:45:27] WARNING: /Users/travis/build/dmlc/xgboost/src/learner.cc:541: \n",
      "Parameters: { silent } might not be used.\n",
      "\n",
      "  This may not be accurate due to some parameters are only used in language bindings but\n",
      "  passed down to XGBoost core.  Or some parameters are not used but slip through this\n",
      "  verification. Please open an issue if you find above cases.\n",
      "\n",
      "\n",
      "[0]\teval-rmse:78.71457\ttrain-rmse:78.71497\n",
      "[200]\teval-rmse:2.31233\ttrain-rmse:2.23794\n",
      "[400]\teval-rmse:2.24642\ttrain-rmse:2.12096\n",
      "[600]\teval-rmse:2.20035\ttrain-rmse:2.03399\n",
      "[800]\teval-rmse:2.17081\ttrain-rmse:1.96804\n",
      "[999]\teval-rmse:2.14359\ttrain-rmse:1.90950\n"
     ]
    }
   ],
   "source": [
    "xgb_params = {\n",
    "    'eta': 0.1,\n",
    "    'max_depth': 6,\n",
    "    'subsample': 0.7,\n",
    "    'colsample_bytree': 0.7,\n",
    "    'objective': 'reg:linear',\n",
    "    'eval_metric': 'rmse',\n",
    "    'min_child_weight':1,\n",
    "    'lambda': 0.2,\n",
    "    'silent': 1,\n",
    "    'seed':15\n",
    "}\n",
    "\n",
    "model = xgb.train(params = xgb_params, \n",
    "                    dtrain = xgb_train, \n",
    "                    num_boost_round =1000, \n",
    "                    evals = evallist, \n",
    "                    early_stopping_rounds = 10, \n",
    "                    verbose_eval = 200\n",
    "                   )"
   ]
  },
  {
   "cell_type": "code",
   "execution_count": 228,
   "metadata": {},
   "outputs": [],
   "source": [
    "predictions = model.predict(xgb_test)"
   ]
  },
  {
   "cell_type": "code",
   "execution_count": 229,
   "metadata": {},
   "outputs": [
    {
     "data": {
      "text/plain": [
       "2.1250509963979987"
      ]
     },
     "execution_count": 229,
     "metadata": {},
     "output_type": "execute_result"
    }
   ],
   "source": [
    "# RMSE на тестовой выборке\n",
    "\n",
    "np.sqrt(mean_squared_error(predictions,y_test))"
   ]
  },
  {
   "cell_type": "code",
   "execution_count": null,
   "metadata": {},
   "outputs": [],
   "source": []
  },
  {
   "cell_type": "code",
   "execution_count": null,
   "metadata": {},
   "outputs": [],
   "source": []
  }
 ],
 "metadata": {
  "kernelspec": {
   "display_name": "Python 3",
   "language": "python",
   "name": "python3"
  },
  "language_info": {
   "codemirror_mode": {
    "name": "ipython",
    "version": 3
   },
   "file_extension": ".py",
   "mimetype": "text/x-python",
   "name": "python",
   "nbconvert_exporter": "python",
   "pygments_lexer": "ipython3",
   "version": "3.8.3"
  }
 },
 "nbformat": 4,
 "nbformat_minor": 4
}
